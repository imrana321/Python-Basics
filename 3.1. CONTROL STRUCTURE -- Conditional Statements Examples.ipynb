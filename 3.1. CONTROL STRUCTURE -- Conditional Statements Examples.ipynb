{
 "cells": [
  {
   "cell_type": "markdown",
   "id": "984eff58",
   "metadata": {},
   "source": [
    "# ---------- Conditional Statement Examples -------------"
   ]
  },
  {
   "cell_type": "markdown",
   "id": "dd88ef99",
   "metadata": {},
   "source": [
    "##### Example 1: Multiple Conditions in a Single Statement"
   ]
  },
  {
   "cell_type": "code",
   "execution_count": 1,
   "id": "086874b2",
   "metadata": {},
   "outputs": [
    {
     "name": "stdout",
     "output_type": "stream",
     "text": [
      "Eligible for the loan\n"
     ]
    }
   ],
   "source": [
    "age = 25\n",
    "income = 45000\n",
    "citizen = True\n",
    "\n",
    "if age > 18 and income > 40000 and citizen:\n",
    "    print(\"Eligible for the loan\")\n",
    "else:\n",
    "    print(\"Not eligible for the loan\")\n"
   ]
  },
  {
   "cell_type": "code",
   "execution_count": 19,
   "id": "63fbc6cc",
   "metadata": {},
   "outputs": [],
   "source": [
    "## Explanation :----\n",
    "\n",
    "# Combines multiple conditions using logical operators ('and', 'or', 'not').\n",
    "# Checks that 'age', 'income', and 'citizen' meet specific criteria."
   ]
  },
  {
   "cell_type": "markdown",
   "id": "f7bdd9c3",
   "metadata": {},
   "source": [
    "##### Example 2: Ternary (Conditional) Expression"
   ]
  },
  {
   "cell_type": "code",
   "execution_count": 3,
   "id": "654fe306",
   "metadata": {},
   "outputs": [
    {
     "name": "stdout",
     "output_type": "stream",
     "text": [
      "Pass\n"
     ]
    }
   ],
   "source": [
    "score = 85\n",
    "result = \"Pass\" if score >= 50 else \"Fail\"\n",
    "print(result)\n"
   ]
  },
  {
   "cell_type": "code",
   "execution_count": 18,
   "id": "185246ae",
   "metadata": {},
   "outputs": [],
   "source": [
    "## Explanation :----\n",
    "\n",
    "# The ternary expression provides a shorthand for 'if-else.'\n",
    "# If 'score >= 50', 'result' is assigned \"Pass\". Otherwise, it’s assigned \"Fail\"."
   ]
  },
  {
   "cell_type": "markdown",
   "id": "3336bfd6",
   "metadata": {},
   "source": [
    "##### Example 3: Using 'in' and 'not in'"
   ]
  },
  {
   "cell_type": "code",
   "execution_count": 6,
   "id": "7137c6f8",
   "metadata": {},
   "outputs": [
    {
     "name": "stdout",
     "output_type": "stream",
     "text": [
      "Banana is in the list\n"
     ]
    }
   ],
   "source": [
    "fruits = [\"Apple\", \"Banana\", \"Cherry\"]\n",
    "item = \"Banana\"\n",
    "\n",
    "if item in fruits:\n",
    "    print(f\"{item} is in the list\")\n",
    "else:\n",
    "    print(f\"{item} is not in the list\")\n"
   ]
  },
  {
   "cell_type": "code",
   "execution_count": 17,
   "id": "06089dff",
   "metadata": {},
   "outputs": [],
   "source": [
    "## Explanation :----\n",
    "\n",
    "# The 'in' operator checks if an element exists in a collection.\n",
    "# 'not in' would check if an element does not exist."
   ]
  },
  {
   "cell_type": "markdown",
   "id": "beded6d8",
   "metadata": {},
   "source": [
    "##### Example 4: Combining 'if', 'elif', and 'else'"
   ]
  },
  {
   "cell_type": "code",
   "execution_count": 8,
   "id": "a03df305",
   "metadata": {},
   "outputs": [
    {
     "name": "stdout",
     "output_type": "stream",
     "text": [
      "It's a warm day.\n"
     ]
    }
   ],
   "source": [
    "temperature = 35\n",
    "\n",
    "if temperature > 40:\n",
    "    print(\"It's extremely hot!\")\n",
    "elif 30 <= temperature <= 40:\n",
    "    print(\"It's a warm day.\")\n",
    "elif 20 <= temperature < 30:\n",
    "    print(\"It's a pleasant day.\")\n",
    "else:\n",
    "    print(\"It's quite cold.\")\n"
   ]
  },
  {
   "cell_type": "code",
   "execution_count": 16,
   "id": "fb2996e1",
   "metadata": {},
   "outputs": [],
   "source": [
    "## Explanation :----\n",
    "\n",
    "# The 'if-elif-else' structure allows multiple conditions to be evaluated in sequence.\n",
    "# Only the first 'True' condition block is executed."
   ]
  },
  {
   "cell_type": "markdown",
   "id": "f09988b8",
   "metadata": {},
   "source": [
    "##### Example 5: Complex Conditions With Functions"
   ]
  },
  {
   "cell_type": "code",
   "execution_count": 10,
   "id": "b18735ec",
   "metadata": {},
   "outputs": [
    {
     "name": "stdout",
     "output_type": "stream",
     "text": [
      "29 is a prime number.\n"
     ]
    }
   ],
   "source": [
    "def is_prime(n):\n",
    "    if n < 2:\n",
    "        return False\n",
    "    for i in range(2, int(n**0.5) + 1):\n",
    "        if n % i == 0:\n",
    "            return False\n",
    "    return True\n",
    "\n",
    "number = 29\n",
    "\n",
    "if is_prime(number):\n",
    "    print(f\"{number} is a prime number.\")\n",
    "else:\n",
    "    print(f\"{number} is not a prime number.\")\n"
   ]
  },
  {
   "cell_type": "code",
   "execution_count": 15,
   "id": "5665f1e1",
   "metadata": {},
   "outputs": [],
   "source": [
    "## Explanation :----\n",
    "\n",
    "# The 'is_prime' function is used as part of the condition to check if a number is prime."
   ]
  },
  {
   "cell_type": "markdown",
   "id": "9bbf363e",
   "metadata": {},
   "source": [
    "##### Example 6: Using 'any' and 'all'"
   ]
  },
  {
   "cell_type": "code",
   "execution_count": 12,
   "id": "0532b0e4",
   "metadata": {},
   "outputs": [
    {
     "name": "stdout",
     "output_type": "stream",
     "text": [
      "All numbers are greater than 5\n",
      "At least one number is greater than 25\n"
     ]
    }
   ],
   "source": [
    "numbers = [10, 20, 30]\n",
    "\n",
    "if all(n > 5 for n in numbers):\n",
    "    print(\"All numbers are greater than 5\")\n",
    "if any(n > 25 for n in numbers):\n",
    "    print(\"At least one number is greater than 25\")\n"
   ]
  },
  {
   "cell_type": "code",
   "execution_count": 14,
   "id": "189b1baa",
   "metadata": {},
   "outputs": [],
   "source": [
    "## Explanation :----\n",
    "\n",
    "# 'all()' returns 'True' if all conditions are 'True.'\n",
    "# 'any()' returns 'True' if at least one condition is 'True.'"
   ]
  },
  {
   "cell_type": "markdown",
   "id": "1f7f84b4",
   "metadata": {},
   "source": [
    "##### Example 7: Nested Conditions"
   ]
  },
  {
   "cell_type": "code",
   "execution_count": 14,
   "id": "6f2200b6",
   "metadata": {},
   "outputs": [
    {
     "name": "stdout",
     "output_type": "stream",
     "text": [
      "Allowed entry\n"
     ]
    }
   ],
   "source": [
    "age = 22\n",
    "has_ticket = True\n",
    "\n",
    "if age >= 18:\n",
    "    if has_ticket:\n",
    "        print(\"Allowed entry\")\n",
    "    else:\n",
    "        print(\"No entry without a ticket\")\n",
    "else:\n",
    "    print(\"Not allowed - underage\")\n"
   ]
  },
  {
   "cell_type": "code",
   "execution_count": 13,
   "id": "6d97347f",
   "metadata": {},
   "outputs": [],
   "source": [
    "## Explanation :----\n",
    "\n",
    "# Conditions are nested to check a hierarchy of rules.\n",
    "# The outer condition checks age, while the inner condition checks for a ticket."
   ]
  },
  {
   "cell_type": "markdown",
   "id": "fb9fb620",
   "metadata": {},
   "source": [
    "##### Example 8: Using 'is' for Identity Comparison"
   ]
  },
  {
   "cell_type": "code",
   "execution_count": 16,
   "id": "22940061",
   "metadata": {},
   "outputs": [
    {
     "name": "stdout",
     "output_type": "stream",
     "text": [
      "a and c are the same object\n"
     ]
    }
   ],
   "source": [
    "a = [1, 2, 3]\n",
    "b = [1, 2, 3]\n",
    "c = a\n",
    "\n",
    "if a is b:\n",
    "    print(\"a and b are the same object\")\n",
    "elif a is c:\n",
    "    print(\"a and c are the same object\")\n",
    "else:\n",
    "    print(\"No objects are the same\")\n"
   ]
  },
  {
   "cell_type": "code",
   "execution_count": 12,
   "id": "a7194692",
   "metadata": {},
   "outputs": [],
   "source": [
    "## Explanation :----\n",
    "\n",
    "# The 'is' operator checks whether two variables reference the same object (identity comparison)."
   ]
  },
  {
   "cell_type": "markdown",
   "id": "b36bf0ba",
   "metadata": {},
   "source": [
    "##### Example 9: Short-Circuiting Logic"
   ]
  },
  {
   "cell_type": "code",
   "execution_count": 1,
   "id": "9d32e3d4",
   "metadata": {},
   "outputs": [
    {
     "name": "stdout",
     "output_type": "stream",
     "text": [
      "Condition not met\n"
     ]
    }
   ],
   "source": [
    "x = 10\n",
    "y = 0\n",
    "\n",
    "if y != 0 and x / y > 1:\n",
    "    print(\"Condition met\")\n",
    "else:\n",
    "    print(\"Condition not met\")\n"
   ]
  },
  {
   "cell_type": "code",
   "execution_count": 11,
   "id": "70a16d93",
   "metadata": {},
   "outputs": [],
   "source": [
    "## Explanation :----\n",
    "\n",
    "# The 'and' operator short-circuits, ----\n",
    "# --- meaning if 'y != 0' is 'False,' the second condition '(x / y > 1)' is not evaluated, avoiding a 'ZeroDivisionError.'"
   ]
  },
  {
   "cell_type": "markdown",
   "id": "c1feba15",
   "metadata": {},
   "source": [
    "##### Example 10: Using Sets for Conditions"
   ]
  },
  {
   "cell_type": "code",
   "execution_count": 3,
   "id": "30aa0f15",
   "metadata": {},
   "outputs": [
    {
     "name": "stdout",
     "output_type": "stream",
     "text": [
      "yellow is not allowed\n"
     ]
    }
   ],
   "source": [
    "allowed_colors = {\"red\", \"blue\", \"green\"}\n",
    "selected_color = \"yellow\"\n",
    "\n",
    "if selected_color in allowed_colors:\n",
    "    print(f\"{selected_color} is allowed\")\n",
    "else:\n",
    "    print(f\"{selected_color} is not allowed\")\n"
   ]
  },
  {
   "cell_type": "code",
   "execution_count": 10,
   "id": "02d30d84",
   "metadata": {},
   "outputs": [],
   "source": [
    "## Explanation :----\n",
    "\n",
    "# Sets are used for fast membership testing with the 'in' operator."
   ]
  },
  {
   "cell_type": "markdown",
   "id": "b1cbb0ed",
   "metadata": {},
   "source": [
    "##### Example 11: Checking for Subsets and Supersets"
   ]
  },
  {
   "cell_type": "code",
   "execution_count": 4,
   "id": "52e5bcf7",
   "metadata": {},
   "outputs": [
    {
     "name": "stdout",
     "output_type": "stream",
     "text": [
      "User has all the required permissions\n"
     ]
    }
   ],
   "source": [
    "required_permissions = {\"read\", \"write\"}\n",
    "user_permissions = {\"read\", \"write\", \"execute\"}\n",
    "\n",
    "if required_permissions.issubset(user_permissions):\n",
    "    print(\"User has all the required permissions\")\n",
    "else:\n",
    "    print(\"User does not have the required permissions\")\n"
   ]
  },
  {
   "cell_type": "code",
   "execution_count": 9,
   "id": "a69bac9d",
   "metadata": {},
   "outputs": [],
   "source": [
    "## Explanation :----\n",
    "\n",
    "# The '.issubset()' method checks if all elements in 'required_permissions' exist in 'user_permissions.'\n"
   ]
  },
  {
   "cell_type": "markdown",
   "id": "8588949d",
   "metadata": {},
   "source": [
    "##### Example 12: Complex Condition Using lambda"
   ]
  },
  {
   "cell_type": "code",
   "execution_count": 6,
   "id": "14f76c43",
   "metadata": {},
   "outputs": [
    {
     "name": "stdout",
     "output_type": "stream",
     "text": [
      "Non-positive\n"
     ]
    }
   ],
   "source": [
    "check_positive = lambda x: \"Positive\" if x > 0 else \"Non-positive\"\n",
    "\n",
    "number = -5\n",
    "print(check_positive(number))\n"
   ]
  },
  {
   "cell_type": "code",
   "execution_count": 8,
   "id": "a3d67e75",
   "metadata": {},
   "outputs": [],
   "source": [
    "## Explanation :----\n",
    "\n",
    "# A 'lambda' function is used for a concise conditional check."
   ]
  }
 ],
 "metadata": {
  "kernelspec": {
   "display_name": "Python 3 (ipykernel)",
   "language": "python",
   "name": "python3"
  },
  "language_info": {
   "codemirror_mode": {
    "name": "ipython",
    "version": 3
   },
   "file_extension": ".py",
   "mimetype": "text/x-python",
   "name": "python",
   "nbconvert_exporter": "python",
   "pygments_lexer": "ipython3",
   "version": "3.9.7"
  }
 },
 "nbformat": 4,
 "nbformat_minor": 5
}
