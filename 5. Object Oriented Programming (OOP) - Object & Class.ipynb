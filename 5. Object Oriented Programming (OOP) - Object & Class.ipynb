{
 "cells": [
  {
   "cell_type": "markdown",
   "id": "0ba3aa5b",
   "metadata": {},
   "source": [
    "### OBJECT:"
   ]
  },
  {
   "cell_type": "markdown",
   "id": "8ef02b2d",
   "metadata": {},
   "source": [
    "Every data type is an 'object'. "
   ]
  },
  {
   "cell_type": "markdown",
   "id": "b76365dc",
   "metadata": {},
   "source": [
    "##### Create a Class:"
   ]
  },
  {
   "cell_type": "markdown",
   "id": "d55fff58",
   "metadata": {},
   "source": [
    "The actual object is shown below. We include the method 'drawCircle' to display the image of a circle. \n",
    "\n",
    "We set the default radius to 3 and the default color is blue."
   ]
  },
  {
   "cell_type": "code",
   "execution_count": 1,
   "id": "b7bf0030",
   "metadata": {},
   "outputs": [],
   "source": [
    "#Import the library#\n",
    "\n",
    "import matplotlib.pyplot as plt\n",
    "%matplotlib inline"
   ]
  },
  {
   "cell_type": "code",
   "execution_count": 2,
   "id": "f0ed1dd5",
   "metadata": {},
   "outputs": [],
   "source": [
    "# Create a class Circle\n",
    "\n",
    "class Circle(object):\n",
    "    \n",
    "    #Constructor#\n",
    "    def __init__(self, radius = 3, color = \"blue\"):\n",
    "        self.radius = radius\n",
    "        self.color = color\n",
    "        \n",
    "    #Method#\n",
    "    def add_radius(self,r):\n",
    "        self.radius = self.radius + r\n",
    "        return(self.radius)\n",
    "    \n",
    "    #Method#\n",
    "    def drawCricle(self):\n",
    "        plt.gca().add_patch(plt.Circle((0,0), radius = self.radius, fc = self.color))\n",
    "        plt.axis(\"scaled\")\n",
    "        plt.show()"
   ]
  },
  {
   "cell_type": "code",
   "execution_count": 3,
   "id": "aa17f31f",
   "metadata": {},
   "outputs": [],
   "source": [
    "# Create a circle\n",
    "\n",
    "\n",
    "RedCircle=Circle(10,'red')"
   ]
  },
  {
   "cell_type": "code",
   "execution_count": 4,
   "id": "58189631",
   "metadata": {},
   "outputs": [
    {
     "data": {
      "text/plain": [
       "10"
      ]
     },
     "execution_count": 4,
     "metadata": {},
     "output_type": "execute_result"
    }
   ],
   "source": [
    "RedCircle.radius"
   ]
  },
  {
   "cell_type": "code",
   "execution_count": 5,
   "id": "9bad6cbb",
   "metadata": {},
   "outputs": [
    {
     "data": {
      "text/plain": [
       "'red'"
      ]
     },
     "execution_count": 5,
     "metadata": {},
     "output_type": "execute_result"
    }
   ],
   "source": [
    "RedCircle.color"
   ]
  },
  {
   "cell_type": "code",
   "execution_count": 6,
   "id": "d8bdb81b",
   "metadata": {},
   "outputs": [
    {
     "data": {
      "text/plain": [
       "1"
      ]
     },
     "execution_count": 6,
     "metadata": {},
     "output_type": "execute_result"
    }
   ],
   "source": [
    "#Change the radius#\n",
    "\n",
    "RedCircle.radius=1\n",
    "RedCircle.radius"
   ]
  },
  {
   "cell_type": "code",
   "execution_count": 7,
   "id": "f1abaadf",
   "metadata": {},
   "outputs": [
    {
     "data": {
      "image/png": "[encoded data removed]",
      "text/plain": [
       "<Figure size 432x288 with 1 Axes>"
      ]
     },
     "metadata": {
      "needs_background": "light"
     },
     "output_type": "display_data"
    }
   ],
   "source": [
    "RedCircle.drawCricle()"
   ]
  },
  {
   "cell_type": "code",
   "execution_count": 8,
   "id": "5a7b1730",
   "metadata": {},
   "outputs": [
    {
     "name": "stdout",
     "output_type": "stream",
     "text": [
      "Radius of the object  1\n",
      "Radius object after applying the method add_radius(2) 3\n",
      "Radius object after applying the method add_radius(5) 8\n"
     ]
    }
   ],
   "source": [
    "print(\"Radius of the object \", RedCircle.radius)\n",
    "\n",
    "RedCircle.add_radius(2)\n",
    "print(\"Radius object after applying the method add_radius(2)\",RedCircle.radius)\n",
    "\n",
    "RedCircle.add_radius(5)\n",
    "print(\"Radius object after applying the method add_radius(5)\",RedCircle.radius)"
   ]
  },
  {
   "cell_type": "code",
   "execution_count": 9,
   "id": "197fcea0",
   "metadata": {},
   "outputs": [],
   "source": [
    "# Create a blue circle using the same class:\n",
    "\n",
    "\n",
    "BlueCircle = Circle(radius=100)"
   ]
  },
  {
   "cell_type": "code",
   "execution_count": 10,
   "id": "8c47eab4",
   "metadata": {},
   "outputs": [
    {
     "data": {
      "text/plain": [
       "100"
      ]
     },
     "execution_count": 10,
     "metadata": {},
     "output_type": "execute_result"
    }
   ],
   "source": [
    "BlueCircle.radius"
   ]
  },
  {
   "cell_type": "code",
   "execution_count": 11,
   "id": "916d00c6",
   "metadata": {},
   "outputs": [
    {
     "data": {
      "image/png": "[encoded data removed]",
      "text/plain": [
       "<Figure size 432x288 with 1 Axes>"
      ]
     },
     "metadata": {
      "needs_background": "light"
     },
     "output_type": "display_data"
    }
   ],
   "source": [
    "BlueCircle.drawCricle()"
   ]
  },
  {
   "cell_type": "code",
   "execution_count": 12,
   "id": "c9cca4e0",
   "metadata": {},
   "outputs": [],
   "source": [
    "class Rectangle(object):\n",
    "    \n",
    "    def __init__(self, width, height, color = \"r\"):   #Atributes#\n",
    "        self.height = height\n",
    "        self.width = width\n",
    "        self.color = color\n",
    "        \n",
    "    def drawRectangle(self):\n",
    "        plt.gca().add_patch(plt.Rectangle((0,0), self.width,  self.height, fc = self.color))\n",
    "        plt.axis(\"scaled\")\n",
    "        plt.show()"
   ]
  },
  {
   "cell_type": "code",
   "execution_count": 13,
   "id": "0b944933",
   "metadata": {},
   "outputs": [],
   "source": [
    "ThinBlueRectangle =  Rectangle(3, 10, \"blue\")      #3. 10, blue"
   ]
  },
  {
   "cell_type": "code",
   "execution_count": 14,
   "id": "4dc78996",
   "metadata": {},
   "outputs": [
    {
     "data": {
      "text/plain": [
       "10"
      ]
     },
     "execution_count": 14,
     "metadata": {},
     "output_type": "execute_result"
    }
   ],
   "source": [
    "ThinBlueRectangle.height"
   ]
  },
  {
   "cell_type": "code",
   "execution_count": 15,
   "id": "c0910198",
   "metadata": {},
   "outputs": [
    {
     "data": {
      "text/plain": [
       "'blue'"
      ]
     },
     "execution_count": 15,
     "metadata": {},
     "output_type": "execute_result"
    }
   ],
   "source": [
    "ThinBlueRectangle.color"
   ]
  },
  {
   "cell_type": "code",
   "execution_count": 16,
   "id": "145110a7",
   "metadata": {},
   "outputs": [
    {
     "data": {
      "image/png": "[encoded data removed]",
      "text/plain": [
       "<Figure size 432x288 with 1 Axes>"
      ]
     },
     "metadata": {
      "needs_background": "light"
     },
     "output_type": "display_data"
    }
   ],
   "source": [
    "ThinBlueRectangle.drawRectangle()"
   ]
  },
  {
   "cell_type": "code",
   "execution_count": 17,
   "id": "0b7c3ecd",
   "metadata": {},
   "outputs": [],
   "source": [
    "ThickYellowRectangle = Rectangle(10, 5, \"yellow\") "
   ]
  },
  {
   "cell_type": "code",
   "execution_count": 18,
   "id": "ba8ec363",
   "metadata": {},
   "outputs": [
    {
     "data": {
      "image/png": "[encoded data removed]",
      "text/plain": [
       "<Figure size 432x288 with 1 Axes>"
      ]
     },
     "metadata": {
      "needs_background": "light"
     },
     "output_type": "display_data"
    }
   ],
   "source": [
    "ThickYellowRectangle.drawRectangle()"
   ]
  },
  {
   "cell_type": "code",
   "execution_count": null,
   "id": "c26d8b4a",
   "metadata": {},
   "outputs": [],
   "source": []
  }
 ],
 "metadata": {
  "kernelspec": {
   "display_name": "Python 3 (ipykernel)",
   "language": "python",
   "name": "python3"
  },
  "language_info": {
   "codemirror_mode": {
    "name": "ipython",
    "version": 3
   },
   "file_extension": ".py",
   "mimetype": "text/x-python",
   "name": "python",
   "nbconvert_exporter": "python",
   "pygments_lexer": "ipython3",
   "version": "3.9.7"
  }
 },
 "nbformat": 4,
 "nbformat_minor": 5
}
