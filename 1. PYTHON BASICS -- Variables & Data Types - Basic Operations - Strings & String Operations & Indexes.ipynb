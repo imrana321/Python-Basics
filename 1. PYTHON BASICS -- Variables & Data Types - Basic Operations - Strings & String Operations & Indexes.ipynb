{
 "cells": [
  {
   "cell_type": "markdown",
   "id": "92745142",
   "metadata": {},
   "source": [
    "# Basics in Python"
   ]
  },
  {
   "cell_type": "markdown",
   "id": "bc129d41",
   "metadata": {},
   "source": [
    "### Variables & Data Types | Basic Operations | Strings & String Operations"
   ]
  },
  {
   "cell_type": "markdown",
   "id": "f1c13b64",
   "metadata": {},
   "source": [
    "# ==== Python Overview ===="
   ]
  },
  {
   "cell_type": "code",
   "execution_count": 3,
   "id": "03fe0daa",
   "metadata": {},
   "outputs": [],
   "source": [
    "# Python is used for complex data visualization. Because it's -\n",
    "    # Easy\n",
    "    # Object Oriented\n",
    "    # Increases Productivity\n",
    "    # Several liabrary\n",
    "    \n",
    "    \n",
    "# Use following platforms for python codings:\n",
    "    # www.python.org\n",
    "    # Google Colaborator\n",
    "    # Anaconda - Jupyter Notebook\n",
    "    \n"
   ]
  },
  {
   "cell_type": "markdown",
   "id": "1415556c",
   "metadata": {},
   "source": [
    "# ==== Variables and Data Types ===="
   ]
  },
  {
   "cell_type": "markdown",
   "id": "c3545963",
   "metadata": {},
   "source": [
    "### >>>> Variable:"
   ]
  },
  {
   "cell_type": "markdown",
   "id": "a170c1cf",
   "metadata": {},
   "source": [
    "In Python, a variable is a symbolic name that is a reference or pointer to an object. Once an object is assigned to a variable, you can refer to the object by that name."
   ]
  },
  {
   "cell_type": "code",
   "execution_count": 93,
   "id": "f87e4eb9",
   "metadata": {},
   "outputs": [
    {
     "name": "stdout",
     "output_type": "stream",
     "text": [
      "Alice 25\n"
     ]
    }
   ],
   "source": [
    "# Example:\n",
    "\n",
    "age = 25\n",
    "name = \"Alice\"\n",
    "\n",
    "print(name, age)"
   ]
  },
  {
   "cell_type": "code",
   "execution_count": 97,
   "id": "32d77f73",
   "metadata": {},
   "outputs": [],
   "source": [
    "#### Naming Conventoions:\n",
    "    # Variable names must start with a letter or an underscore (_).\n",
    "    # The rest of the name can include letters, digits, or underscores.\n",
    "    # Variable names are case-sensitive (e.g., age and Age are different variables).\n",
    "    \n",
    "## Wrong Variables:\n",
    "    # 2myvar=\"J\" [Don't start a variable name with a number]\n",
    "    # my-var=\"J\" [No othe special character apart from \"_\" an under_score]\n",
    "    # my var=\"J\" [No space]\n",
    "    "
   ]
  },
  {
   "cell_type": "code",
   "execution_count": 26,
   "id": "ab45557c",
   "metadata": {},
   "outputs": [
    {
     "name": "stdout",
     "output_type": "stream",
     "text": [
      "5\n",
      "2\n"
     ]
    }
   ],
   "source": [
    "# Variables:\n",
    "\n",
    "var1=5\n",
    "var2=2\n",
    "\n",
    "print(var1)\n",
    "print(var2)"
   ]
  },
  {
   "cell_type": "code",
   "execution_count": 27,
   "id": "81e96cc4",
   "metadata": {},
   "outputs": [
    {
     "name": "stdout",
     "output_type": "stream",
     "text": [
      "17\n"
     ]
    }
   ],
   "source": [
    "# Operations and Variables:\n",
    "\n",
    "x=20+2\n",
    "y=x/4\n",
    "z=x-5\n",
    "\n",
    "print(z)"
   ]
  },
  {
   "cell_type": "code",
   "execution_count": 38,
   "id": "9036c141",
   "metadata": {},
   "outputs": [
    {
     "data": {
      "text/plain": [
       "17"
      ]
     },
     "execution_count": 38,
     "metadata": {},
     "output_type": "execute_result"
    }
   ],
   "source": [
    "z"
   ]
  },
  {
   "cell_type": "markdown",
   "id": "65211d18",
   "metadata": {},
   "source": [
    "###  >>>> Types of Data:"
   ]
  },
  {
   "cell_type": "code",
   "execution_count": 98,
   "id": "dbdcde24",
   "metadata": {},
   "outputs": [],
   "source": [
    "# Thre are 4 different types of data:\n",
    "    # Integer - int : 1,2,3,4\n",
    "    # Float - float : 1.2, 1.3, 5.5 \n",
    "    # Strings - str : \"Hello World\"\n",
    "    # Boolean - bool : True/False"
   ]
  },
  {
   "cell_type": "code",
   "execution_count": 99,
   "id": "3fd5f914",
   "metadata": {},
   "outputs": [],
   "source": [
    "age = 30                # int\n",
    "height = 5.9            # float\n",
    "name = \"Alice\"          # str\n",
    "is_student = True       # bool\n"
   ]
  },
  {
   "cell_type": "markdown",
   "id": "fb0f1ada",
   "metadata": {},
   "source": [
    "# ==== Basic Operations ===="
   ]
  },
  {
   "cell_type": "code",
   "execution_count": 103,
   "id": "e512d016",
   "metadata": {},
   "outputs": [],
   "source": [
    "## Addition, subtraction, multiplication, division, modulus, exponentiation and floor divitsion\n",
    "# The signs are called 'Operators'\n",
    "\n",
    "        ## Division: To get int - Use '/' & to get float - use '//'\n",
    "        ## Modulus: '%' = (200%100)=0\n",
    "        ## Exponentiation: '**' = (10**2)=100\n",
    "# Python follows the BDMAS rules for a calculation.\n",
    "\n",
    "\n",
    "# There are different types of operatiors, such as -\n",
    "    # Arithmatic Operation\n",
    "    # Assignment Operators\n",
    "    # Comparison Operators\n",
    "    # Logical Operators\n",
    "\n"
   ]
  },
  {
   "cell_type": "markdown",
   "id": "00fdb8af",
   "metadata": {},
   "source": [
    "### 1. Arithmatic Operation"
   ]
  },
  {
   "cell_type": "code",
   "execution_count": null,
   "id": "734bb35f",
   "metadata": {},
   "outputs": [],
   "source": [
    "# Arithmetic operations include - \n",
    "    # Addition\n",
    "    # Subtraction, \n",
    "    # Multiplication, \n",
    "    # Division, and more.\n",
    "    \n",
    "# These operations are aplicable for flat & intiger. "
   ]
  },
  {
   "cell_type": "code",
   "execution_count": 100,
   "id": "3a4430b6",
   "metadata": {},
   "outputs": [],
   "source": [
    "a = 10\n",
    "b = 5\n",
    "\n",
    "sum = a + b            # Addition: 15\n",
    "difference = a - b     # Subtraction: 5\n",
    "product = a * b        # Multiplication: 50\n",
    "quotient = a / b       # Division: 2.0\n",
    "modulus = a % b        # Modulus: 0\n",
    "exponent = a ** b      # Exponentiation: 100000\n"
   ]
  },
  {
   "cell_type": "markdown",
   "id": "a05bb146",
   "metadata": {},
   "source": [
    "Examples:"
   ]
  },
  {
   "cell_type": "code",
   "execution_count": 40,
   "id": "e70795c2",
   "metadata": {},
   "outputs": [
    {
     "name": "stdout",
     "output_type": "stream",
     "text": [
      "36.6\n"
     ]
    }
   ],
   "source": [
    "### Addition:\n",
    "\n",
    "x = 30.7+5.9\n",
    "print(x)"
   ]
  },
  {
   "cell_type": "code",
   "execution_count": 41,
   "id": "db025460",
   "metadata": {},
   "outputs": [
    {
     "name": "stdout",
     "output_type": "stream",
     "text": [
      "-30\n"
     ]
    }
   ],
   "source": [
    "### Subtraction:\n",
    "\n",
    "y = 10-40\n",
    "\n",
    "print(y)"
   ]
  },
  {
   "cell_type": "code",
   "execution_count": 42,
   "id": "a5e5d8ab",
   "metadata": {},
   "outputs": [
    {
     "data": {
      "text/plain": [
       "10"
      ]
     },
     "execution_count": 42,
     "metadata": {},
     "output_type": "execute_result"
    }
   ],
   "source": [
    "## Multiplication:\n",
    "\n",
    "x = 5*2\n",
    "x"
   ]
  },
  {
   "cell_type": "code",
   "execution_count": 43,
   "id": "831ec437",
   "metadata": {},
   "outputs": [
    {
     "data": {
      "text/plain": [
       "5"
      ]
     },
     "execution_count": 43,
     "metadata": {},
     "output_type": "execute_result"
    }
   ],
   "source": [
    "## Division: To get int - Use '/' & to get float - use '//':\n",
    "\n",
    "x = 11//2\n",
    "x"
   ]
  },
  {
   "cell_type": "code",
   "execution_count": 44,
   "id": "44012161",
   "metadata": {},
   "outputs": [
    {
     "data": {
      "text/plain": [
       "5.5"
      ]
     },
     "execution_count": 44,
     "metadata": {},
     "output_type": "execute_result"
    }
   ],
   "source": [
    "x = 11/2\n",
    "x"
   ]
  },
  {
   "cell_type": "code",
   "execution_count": 45,
   "id": "03e0402e",
   "metadata": {},
   "outputs": [
    {
     "data": {
      "text/plain": [
       "0"
      ]
     },
     "execution_count": 45,
     "metadata": {},
     "output_type": "execute_result"
    }
   ],
   "source": [
    "## Modulus\n",
    "\n",
    "200%100"
   ]
  },
  {
   "cell_type": "code",
   "execution_count": 46,
   "id": "e01a679e",
   "metadata": {},
   "outputs": [
    {
     "data": {
      "text/plain": [
       "9"
      ]
     },
     "execution_count": 46,
     "metadata": {},
     "output_type": "execute_result"
    }
   ],
   "source": [
    "## Exponentiation:\n",
    "\n",
    "3**2"
   ]
  },
  {
   "cell_type": "markdown",
   "id": "0ed854eb",
   "metadata": {},
   "source": [
    "### 2. Assignment Operators"
   ]
  },
  {
   "cell_type": "code",
   "execution_count": 101,
   "id": "f3f2f176",
   "metadata": {},
   "outputs": [],
   "source": [
    "# Assignment operators are used to assign values to variables.\n",
    "\n",
    "x = 5                  # Assigns 5 to x\n",
    "x += 3                 # Equivalent to x = x + 3\n",
    "x -= 2                 # Equivalent to x = x - 2\n",
    "x *= 4                 # Equivalent to x = x * 4\n",
    "x /= 2                 # Equivalent to x = x / 2\n",
    "x %= 3                 # Equivalent to x = x % 3\n",
    "x **= 2                # Equivalent to x = x ** 2\n"
   ]
  },
  {
   "cell_type": "markdown",
   "id": "f10974f2",
   "metadata": {},
   "source": [
    "### 3. Comparison Operators"
   ]
  },
  {
   "cell_type": "code",
   "execution_count": null,
   "id": "a4ee503f",
   "metadata": {},
   "outputs": [],
   "source": [
    "# Comparison operators are used to compare values and return a boolean result.\n",
    "\n",
    "a = 10\n",
    "b = 5\n",
    "\n",
    "print(a == b)          # Equal to: False\n",
    "print(a != b)          # Not equal to: True\n",
    "print(a > b)           # Greater than: True\n",
    "print(a < b)           # Less than: False\n",
    "print(a >= b)          # Greater than or equal to: True\n",
    "print(a <= b)          # Less than or equal to: False\n"
   ]
  },
  {
   "cell_type": "markdown",
   "id": "29531605",
   "metadata": {},
   "source": [
    "### 4. Logical Operators"
   ]
  },
  {
   "cell_type": "code",
   "execution_count": 102,
   "id": "23c1ad6f",
   "metadata": {},
   "outputs": [
    {
     "name": "stdout",
     "output_type": "stream",
     "text": [
      "False\n",
      "True\n",
      "False\n"
     ]
    }
   ],
   "source": [
    "# Logical operators are used to combine conditional statements.\n",
    "\n",
    "x = True\n",
    "y = False\n",
    "\n",
    "print(x and y)         # Logical AND: False\n",
    "print(x or y)          # Logical OR: True\n",
    "print(not x)           # Logical NOT: False\n"
   ]
  },
  {
   "cell_type": "markdown",
   "id": "980c0e15",
   "metadata": {},
   "source": [
    "#### Mathemetical Operation Conventions"
   ]
  },
  {
   "cell_type": "code",
   "execution_count": 48,
   "id": "48f444d9",
   "metadata": {},
   "outputs": [
    {
     "data": {
      "text/plain": [
       "24"
      ]
     },
     "execution_count": 48,
     "metadata": {},
     "output_type": "execute_result"
    }
   ],
   "source": [
    "(10+2)*2"
   ]
  },
  {
   "cell_type": "code",
   "execution_count": 49,
   "id": "4c1df5b7",
   "metadata": {},
   "outputs": [
    {
     "data": {
      "text/plain": [
       "3"
      ]
     },
     "execution_count": 49,
     "metadata": {},
     "output_type": "execute_result"
    }
   ],
   "source": [
    "# Mathemetical Operation and Variables\n",
    "\n",
    "x = 7-6*1\n",
    "y = x*3\n",
    "\n",
    "y"
   ]
  },
  {
   "cell_type": "code",
   "execution_count": 50,
   "id": "cd1cc217",
   "metadata": {},
   "outputs": [
    {
     "data": {
      "text/plain": [
       "-21.0"
      ]
     },
     "execution_count": 50,
     "metadata": {},
     "output_type": "execute_result"
    }
   ],
   "source": [
    "x = ((5+2)*2)/7\n",
    "y = -5**2 + 2*x\n",
    "\n",
    "y"
   ]
  },
  {
   "cell_type": "markdown",
   "id": "8c50f956",
   "metadata": {},
   "source": [
    "#### Converting from one type to a different type"
   ]
  },
  {
   "cell_type": "code",
   "execution_count": 31,
   "id": "64250b20",
   "metadata": {},
   "outputs": [
    {
     "data": {
      "text/plain": [
       "9.0"
      ]
     },
     "execution_count": 31,
     "metadata": {},
     "output_type": "execute_result"
    }
   ],
   "source": [
    "# int to float\n",
    "\n",
    "float(9)"
   ]
  },
  {
   "cell_type": "code",
   "execution_count": 32,
   "id": "98db25a6",
   "metadata": {},
   "outputs": [
    {
     "data": {
      "text/plain": [
       "6"
      ]
     },
     "execution_count": 32,
     "metadata": {},
     "output_type": "execute_result"
    }
   ],
   "source": [
    "int(\"6\")"
   ]
  },
  {
   "cell_type": "code",
   "execution_count": 33,
   "id": "69351d2b",
   "metadata": {},
   "outputs": [
    {
     "data": {
      "text/plain": [
       "True"
      ]
     },
     "execution_count": 33,
     "metadata": {},
     "output_type": "execute_result"
    }
   ],
   "source": [
    "bool(-6)"
   ]
  },
  {
   "cell_type": "code",
   "execution_count": 34,
   "id": "0621fa67",
   "metadata": {},
   "outputs": [
    {
     "data": {
      "text/plain": [
       "False"
      ]
     },
     "execution_count": 34,
     "metadata": {},
     "output_type": "execute_result"
    }
   ],
   "source": [
    "#It's 'False' for only '0'\n",
    "\n",
    "bool(0)"
   ]
  },
  {
   "cell_type": "code",
   "execution_count": 35,
   "id": "4a35c0f3",
   "metadata": {},
   "outputs": [
    {
     "data": {
      "text/plain": [
       "'True'"
      ]
     },
     "execution_count": 35,
     "metadata": {},
     "output_type": "execute_result"
    }
   ],
   "source": [
    "str(True)"
   ]
  },
  {
   "cell_type": "markdown",
   "id": "82a4fa85",
   "metadata": {},
   "source": [
    "# ==== Strings | String Operations | Indexing & Slicing (Stride) ===="
   ]
  },
  {
   "cell_type": "markdown",
   "id": "2d3877cf",
   "metadata": {},
   "source": [
    "### >>>> Strings <<<<"
   ]
  },
  {
   "cell_type": "code",
   "execution_count": 104,
   "id": "eac1afe2",
   "metadata": {},
   "outputs": [],
   "source": [
    "# Creating Strings\n",
    "# Strings can be created by enclosing text in single quotes, double quotes, or triple quotes.\n",
    "\n",
    "# Examples:\n",
    "\n",
    "single_quote_str = 'Hello'\n",
    "double_quote_str = \"Hello\"\n",
    "triple_quote_str = '''Hello'''\n"
   ]
  },
  {
   "cell_type": "code",
   "execution_count": 51,
   "id": "d22f02f0",
   "metadata": {},
   "outputs": [
    {
     "data": {
      "text/plain": [
       "'python'"
      ]
     },
     "execution_count": 51,
     "metadata": {},
     "output_type": "execute_result"
    }
   ],
   "source": [
    "\"python\""
   ]
  },
  {
   "cell_type": "code",
   "execution_count": 52,
   "id": "9a2e58a6",
   "metadata": {},
   "outputs": [
    {
     "data": {
      "text/plain": [
       "str"
      ]
     },
     "execution_count": 52,
     "metadata": {},
     "output_type": "execute_result"
    }
   ],
   "source": [
    "type(\"1 2 3 4 @ 1 _\")"
   ]
  },
  {
   "cell_type": "code",
   "execution_count": 53,
   "id": "d7d89f56",
   "metadata": {},
   "outputs": [
    {
     "name": "stdout",
     "output_type": "stream",
     "text": [
      "This is coding.\n"
     ]
    }
   ],
   "source": [
    "print(\"This is coding.\")"
   ]
  },
  {
   "cell_type": "markdown",
   "id": "e5d26947",
   "metadata": {},
   "source": [
    "#### String Concatenation"
   ]
  },
  {
   "cell_type": "code",
   "execution_count": 115,
   "id": "1445d2a9",
   "metadata": {},
   "outputs": [
    {
     "data": {
      "text/plain": [
       "'Hello Alice'"
      ]
     },
     "execution_count": 115,
     "metadata": {},
     "output_type": "execute_result"
    }
   ],
   "source": [
    "# Strings can be concatenated using the '+' operator.\n",
    "\n",
    "# Example 1:\n",
    "\n",
    "greeting = \"Hello\"\n",
    "name = \"Alice\"\n",
    "\n",
    "message = greeting + \" \" + name \n",
    "\n",
    "message"
   ]
  },
  {
   "cell_type": "code",
   "execution_count": 116,
   "id": "b9756675",
   "metadata": {},
   "outputs": [
    {
     "data": {
      "text/plain": [
       "'Urmi is the best'"
      ]
     },
     "execution_count": 116,
     "metadata": {},
     "output_type": "execute_result"
    }
   ],
   "source": [
    "# Example 2:\n",
    "\n",
    "Name = \"Urmi\"\n",
    "Trait = \" is the best\"\n",
    "\n",
    "Sentence = Name + Trait\n",
    "Sentence"
   ]
  },
  {
   "cell_type": "code",
   "execution_count": 69,
   "id": "c5420f94",
   "metadata": {},
   "outputs": [
    {
     "data": {
      "text/plain": [
       "'Urmi is the best.'"
      ]
     },
     "execution_count": 69,
     "metadata": {},
     "output_type": "execute_result"
    }
   ],
   "source": [
    "\"Urmi \"+\"is the best.\""
   ]
  },
  {
   "cell_type": "code",
   "execution_count": 117,
   "id": "1bf47903",
   "metadata": {},
   "outputs": [
    {
     "data": {
      "text/plain": [
       "'Urmi Urmi '"
      ]
     },
     "execution_count": 117,
     "metadata": {},
     "output_type": "execute_result"
    }
   ],
   "source": [
    "# Contate by multiplying:\n",
    "\n",
    "\"Urmi \" * 2"
   ]
  },
  {
   "cell_type": "markdown",
   "id": "b77c2aaa",
   "metadata": {},
   "source": [
    "### >>>> String Methods and Functions | String Operations <<<<"
   ]
  },
  {
   "cell_type": "code",
   "execution_count": 114,
   "id": "06bd1a65",
   "metadata": {},
   "outputs": [],
   "source": [
    "# Python provides several built-in methods for strings.\n",
    "\n",
    "\n",
    "\n",
    "text = \"hello world\"\n",
    "\n",
    "\n",
    "# String methods\n",
    "upper_text = text.upper()        # 'HELLO WORLD'\n",
    "lower_text = text.lower()        # 'hello world'\n",
    "title_text = text.title()        # 'Hello World'\n",
    "split_text = text.split()        # ['hello', 'world']\n",
    "joined_text = ' '.join(['hello', 'world'])  # 'hello world'\n",
    "\n",
    "\n",
    "\n",
    "# String functions\n",
    "length = len(text)               # 11"
   ]
  },
  {
   "cell_type": "code",
   "execution_count": 85,
   "id": "33ea065d",
   "metadata": {},
   "outputs": [
    {
     "data": {
      "text/plain": [
       "'PYTHON'"
      ]
     },
     "execution_count": 85,
     "metadata": {},
     "output_type": "execute_result"
    }
   ],
   "source": [
    "# upper()\n",
    "\n",
    "name = \"python\"\n",
    "var = name.upper()\n",
    "\n",
    "var"
   ]
  },
  {
   "cell_type": "code",
   "execution_count": 86,
   "id": "88253032",
   "metadata": {},
   "outputs": [
    {
     "data": {
      "text/plain": [
       "'Python Coding'"
      ]
     },
     "execution_count": 86,
     "metadata": {},
     "output_type": "execute_result"
    }
   ],
   "source": [
    "# replace()\n",
    "\n",
    "name = \"Python Programming\"\n",
    "output = name.replace(\"Programming\", \"Coding\")\n",
    "\n",
    "output"
   ]
  },
  {
   "cell_type": "code",
   "execution_count": 87,
   "id": "57b73904",
   "metadata": {},
   "outputs": [
    {
     "data": {
      "text/plain": [
       "-1"
      ]
     },
     "execution_count": 87,
     "metadata": {},
     "output_type": "execute_result"
    }
   ],
   "source": [
    "# find()\n",
    "\n",
    "name = \"Python Programming\"\n",
    "output = name.find(\"b\")\n",
    "\n",
    "output     #When the letter is not found, the result is '-1'"
   ]
  },
  {
   "cell_type": "code",
   "execution_count": 88,
   "id": "e9288ad7",
   "metadata": {},
   "outputs": [
    {
     "data": {
      "text/plain": [
       "10"
      ]
     },
     "execution_count": 88,
     "metadata": {},
     "output_type": "execute_result"
    }
   ],
   "source": [
    "name = \"Python Programming\"\n",
    "output = name.find(\"g\")\n",
    "\n",
    "output "
   ]
  },
  {
   "cell_type": "markdown",
   "id": "594d6aa1",
   "metadata": {},
   "source": [
    "### >>>> String Indexing | Slicing or Stride <<<<"
   ]
  },
  {
   "cell_type": "markdown",
   "id": "f74ef260",
   "metadata": {},
   "source": [
    "##### STRING INDEXING:"
   ]
  },
  {
   "cell_type": "code",
   "execution_count": 112,
   "id": "1fe03166",
   "metadata": {},
   "outputs": [],
   "source": [
    "# Indexing: Access individual characters in a string using square brackets '[]'.\n",
    "# Slicing: Access a substring using the ':' operator.\n",
    "\n",
    "\n",
    "text = \"Python\"\n",
    "\n",
    "# Indexing\n",
    "first_char = text[0]     # 'P'\n",
    "last_char = text[-1]     # 'n'\n",
    "\n",
    "\n",
    "# Slicing\n",
    "substring = text[1:4]    # 'yth'\n"
   ]
  },
  {
   "cell_type": "code",
   "execution_count": 118,
   "id": "5f367f37",
   "metadata": {},
   "outputs": [
    {
     "data": {
      "text/plain": [
       "'I'"
      ]
     },
     "execution_count": 118,
     "metadata": {},
     "output_type": "execute_result"
    }
   ],
   "source": [
    "## 2 Types of 'Indexes' :: Indexing & Negative Indezing\n",
    "    # Indexing starts with '0'\n",
    "    # Negative indexing starts from '-1' backwards. \n",
    "\n",
    "\n",
    "# Exampple:\n",
    "\n",
    "Name = \"Imrana\"\n",
    "Name[0]"
   ]
  },
  {
   "cell_type": "code",
   "execution_count": 55,
   "id": "889dfe08",
   "metadata": {},
   "outputs": [
    {
     "name": "stdout",
     "output_type": "stream",
     "text": [
      "I\n"
     ]
    }
   ],
   "source": [
    "print(Name[0])"
   ]
  },
  {
   "cell_type": "code",
   "execution_count": 56,
   "id": "aafd1017",
   "metadata": {},
   "outputs": [
    {
     "data": {
      "text/plain": [
       "'Urm'"
      ]
     },
     "execution_count": 56,
     "metadata": {},
     "output_type": "execute_result"
    }
   ],
   "source": [
    "Name1 = \"Urmi Khan\"\n",
    "\n",
    "Name1[0:3]"
   ]
  },
  {
   "cell_type": "code",
   "execution_count": 57,
   "id": "3326c04e",
   "metadata": {},
   "outputs": [
    {
     "data": {
      "text/plain": [
       "'ha'"
      ]
     },
     "execution_count": 57,
     "metadata": {},
     "output_type": "execute_result"
    }
   ],
   "source": [
    "Name1[6:8]"
   ]
  },
  {
   "cell_type": "code",
   "execution_count": 78,
   "id": "d8cf3e73",
   "metadata": {},
   "outputs": [
    {
     "data": {
      "text/plain": [
       "'U'"
      ]
     },
     "execution_count": 78,
     "metadata": {},
     "output_type": "execute_result"
    }
   ],
   "source": [
    "# Indexing (Starts with '0')\n",
    "\n",
    "var = \"Urmi Khan\"\n",
    "\n",
    "var[0]"
   ]
  },
  {
   "cell_type": "code",
   "execution_count": 79,
   "id": "3b9ec238",
   "metadata": {},
   "outputs": [
    {
     "data": {
      "text/plain": [
       "'n'"
      ]
     },
     "execution_count": 79,
     "metadata": {},
     "output_type": "execute_result"
    }
   ],
   "source": [
    "# Negative Indexing (Starts with '-1' from the backwards)\n",
    "\n",
    "var[-1]"
   ]
  },
  {
   "cell_type": "code",
   "execution_count": 80,
   "id": "92628e05",
   "metadata": {},
   "outputs": [
    {
     "data": {
      "text/plain": [
       "9"
      ]
     },
     "execution_count": 80,
     "metadata": {},
     "output_type": "execute_result"
    }
   ],
   "source": [
    "len(var)  #Count -- Not Indexing"
   ]
  },
  {
   "cell_type": "markdown",
   "id": "a91e89e3",
   "metadata": {},
   "source": [
    "####  INDEXING | Slicing (Stride)"
   ]
  },
  {
   "cell_type": "code",
   "execution_count": 81,
   "id": "be95e732",
   "metadata": {},
   "outputs": [
    {
     "data": {
      "text/plain": [
       "'Irn'"
      ]
     },
     "execution_count": 81,
     "metadata": {},
     "output_type": "execute_result"
    }
   ],
   "source": [
    "Name = \"Imrana Yasmin\"\n",
    "\n",
    "Name[0:6:2]     #[Start_Indx:last_indx-1:stride]"
   ]
  },
  {
   "cell_type": "code",
   "execution_count": 82,
   "id": "8d98bb54",
   "metadata": {},
   "outputs": [
    {
     "data": {
      "text/plain": [
       "'Irn amn'"
      ]
     },
     "execution_count": 82,
     "metadata": {},
     "output_type": "execute_result"
    }
   ],
   "source": [
    "Name[::2]"
   ]
  },
  {
   "cell_type": "code",
   "execution_count": 83,
   "id": "38a3553c",
   "metadata": {},
   "outputs": [
    {
     "data": {
      "text/plain": [
       "'Imrana Yasmin'"
      ]
     },
     "execution_count": 83,
     "metadata": {},
     "output_type": "execute_result"
    }
   ],
   "source": [
    "Name[:]"
   ]
  },
  {
   "cell_type": "code",
   "execution_count": 60,
   "id": "1804a9ae",
   "metadata": {},
   "outputs": [
    {
     "data": {
      "text/plain": [
       "'zeeb'"
      ]
     },
     "execution_count": 60,
     "metadata": {},
     "output_type": "execute_result"
    }
   ],
   "source": [
    "# Index Vs. Count\n",
    "\n",
    "    # 'Index' starts from '0'\n",
    "    # 'Count' starts from '1'\n",
    "\n",
    "\n",
    "## Index:\n",
    "\n",
    "Name4=\"Nisa Tehzeeb\"\n",
    "Name4[8:12]"
   ]
  },
  {
   "cell_type": "code",
   "execution_count": 61,
   "id": "fbfaad59",
   "metadata": {},
   "outputs": [
    {
     "data": {
      "text/plain": [
       "'Ns eze'"
      ]
     },
     "execution_count": 61,
     "metadata": {},
     "output_type": "execute_result"
    }
   ],
   "source": [
    "## Stride:\n",
    "\n",
    "Name4[0:12:2]"
   ]
  },
  {
   "cell_type": "code",
   "execution_count": 62,
   "id": "006b553c",
   "metadata": {},
   "outputs": [
    {
     "data": {
      "text/plain": [
       "'Tehzeeb'"
      ]
     },
     "execution_count": 62,
     "metadata": {},
     "output_type": "execute_result"
    }
   ],
   "source": [
    "# Index:\n",
    "\n",
    "Name4[5:]"
   ]
  },
  {
   "cell_type": "code",
   "execution_count": 63,
   "id": "1105cbc9",
   "metadata": {},
   "outputs": [
    {
     "data": {
      "text/plain": [
       "'Ns eze'"
      ]
     },
     "execution_count": 63,
     "metadata": {},
     "output_type": "execute_result"
    }
   ],
   "source": [
    "# Stride till the end by 2:\n",
    "\n",
    "Name4[0::2]"
   ]
  },
  {
   "cell_type": "code",
   "execution_count": 64,
   "id": "17433372",
   "metadata": {},
   "outputs": [
    {
     "data": {
      "text/plain": [
       "'HloWrd'"
      ]
     },
     "execution_count": 64,
     "metadata": {},
     "output_type": "execute_result"
    }
   ],
   "source": [
    "var=\"Hello World\"\n",
    "var[::2]"
   ]
  },
  {
   "cell_type": "code",
   "execution_count": 65,
   "id": "f0e1e280",
   "metadata": {},
   "outputs": [
    {
     "data": {
      "text/plain": [
       "'HloWrd'"
      ]
     },
     "execution_count": 65,
     "metadata": {},
     "output_type": "execute_result"
    }
   ],
   "source": [
    "var[0:13:2]"
   ]
  },
  {
   "cell_type": "code",
   "execution_count": 66,
   "id": "04eb126b",
   "metadata": {},
   "outputs": [
    {
     "data": {
      "text/plain": [
       "'Hello World'"
      ]
     },
     "execution_count": 66,
     "metadata": {},
     "output_type": "execute_result"
    }
   ],
   "source": [
    "var[:]"
   ]
  },
  {
   "cell_type": "markdown",
   "id": "0dbf12fa",
   "metadata": {},
   "source": [
    "#### ESCAPE SEQUENCE"
   ]
  },
  {
   "cell_type": "code",
   "execution_count": 119,
   "id": "f2cf9811",
   "metadata": {},
   "outputs": [
    {
     "name": "stdout",
     "output_type": "stream",
     "text": [
      "Imrana \n",
      "is the best Business Analyst.\n"
     ]
    }
   ],
   "source": [
    "print(\"Imrana \\nis the best Business Analyst.\")"
   ]
  },
  {
   "cell_type": "code",
   "execution_count": 120,
   "id": "3847fd78",
   "metadata": {},
   "outputs": [
    {
     "name": "stdout",
     "output_type": "stream",
     "text": [
      "Imrana \tis the best Business Analyst.\n"
     ]
    }
   ],
   "source": [
    "print(\"Imrana \\tis the best Business Analyst.\")"
   ]
  },
  {
   "cell_type": "code",
   "execution_count": 122,
   "id": "0fc1a646",
   "metadata": {},
   "outputs": [
    {
     "name": "stdout",
     "output_type": "stream",
     "text": [
      "Imrana \\ is the best Business Analyst.\n"
     ]
    }
   ],
   "source": [
    "## The 'back slash - \\' is always printed once:\n",
    "\n",
    "print(\"Imrana \\ is the best Business Analyst.\")"
   ]
  },
  {
   "cell_type": "code",
   "execution_count": 121,
   "id": "d8ba9451",
   "metadata": {},
   "outputs": [
    {
     "name": "stdout",
     "output_type": "stream",
     "text": [
      "Imrana \\ is the best Business Analyst.\n"
     ]
    }
   ],
   "source": [
    "print(\"Imrana \\\\ is the best Business Analyst.\")"
   ]
  },
  {
   "cell_type": "code",
   "execution_count": null,
   "id": "8f709770",
   "metadata": {},
   "outputs": [],
   "source": []
  }
 ],
 "metadata": {
  "kernelspec": {
   "display_name": "Python 3 (ipykernel)",
   "language": "python",
   "name": "python3"
  },
  "language_info": {
   "codemirror_mode": {
    "name": "ipython",
    "version": 3
   },
   "file_extension": ".py",
   "mimetype": "text/x-python",
   "name": "python",
   "nbconvert_exporter": "python",
   "pygments_lexer": "ipython3",
   "version": "3.9.7"
  }
 },
 "nbformat": 4,
 "nbformat_minor": 5
}
