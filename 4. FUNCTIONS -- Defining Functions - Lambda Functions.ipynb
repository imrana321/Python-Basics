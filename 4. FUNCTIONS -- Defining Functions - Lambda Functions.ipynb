{
 "cells": [
  {
   "cell_type": "markdown",
   "id": "f74f0e84",
   "metadata": {},
   "source": [
    "# FUNCTION | LAMBDA FUNCTION"
   ]
  },
  {
   "cell_type": "markdown",
   "id": "b401db91",
   "metadata": {},
   "source": [
    "## >>>> Function <<<<"
   ]
  },
  {
   "cell_type": "markdown",
   "id": "abdd8ee3",
   "metadata": {},
   "source": [
    "### Writing Functions"
   ]
  },
  {
   "cell_type": "markdown",
   "id": "2944f30e",
   "metadata": {},
   "source": [
    "Functions in Python are defined using the 'def' keyword. A function is a block of reusable code that performs a specific task. \n",
    "\n",
    "Here's the basic syntax for defining a function:"
   ]
  },
  {
   "cell_type": "code",
   "execution_count": 1,
   "id": "c84bf483",
   "metadata": {},
   "outputs": [],
   "source": [
    "def function_name(parameters):\n",
    "    \"\"\"\n",
    "    Docstring (optional): Describes the function.\n",
    "    \"\"\"\n",
    "    # Function body\n",
    "    statement(s)\n"
   ]
  },
  {
   "cell_type": "code",
   "execution_count": 2,
   "id": "27fe1c87",
   "metadata": {},
   "outputs": [],
   "source": [
    "# Example \n",
    "\n",
    "def greet(name):\n",
    "    \"\"\"This function greets the person passed in as a parameter.\"\"\"\n",
    "    print(f\"Hello, {name}!\")\n"
   ]
  },
  {
   "cell_type": "markdown",
   "id": "c9fe8d5c",
   "metadata": {},
   "source": [
    "### Function Parameters and Arguments"
   ]
  },
  {
   "cell_type": "markdown",
   "id": "3fa2031a",
   "metadata": {},
   "source": [
    "Parameters are the variables listed inside the parentheses in the function definition.\n",
    "\n",
    "Arguments are the values passed to the function when it is called."
   ]
  },
  {
   "cell_type": "code",
   "execution_count": 3,
   "id": "44e38a61",
   "metadata": {},
   "outputs": [
    {
     "name": "stdout",
     "output_type": "stream",
     "text": [
      "8\n"
     ]
    }
   ],
   "source": [
    "def add(a, b):\n",
    "    \"\"\"This function returns the sum of two numbers.\"\"\"\n",
    "    return a + b\n",
    "\n",
    "result = add(3, 5)  # Here, 3 and 5 are arguments passed to the parameters 'a' and 'b'.\n",
    "print(result)  # Outputs: 8\n"
   ]
  },
  {
   "cell_type": "markdown",
   "id": "afe079ab",
   "metadata": {},
   "source": [
    "### Return Values"
   ]
  },
  {
   "cell_type": "markdown",
   "id": "56a2c621",
   "metadata": {},
   "source": [
    "A function can return a value using the 'return' statement. If no 'return' statement is specified, the function returns 'None.'"
   ]
  },
  {
   "cell_type": "code",
   "execution_count": 4,
   "id": "9c90cf4f",
   "metadata": {},
   "outputs": [
    {
     "name": "stdout",
     "output_type": "stream",
     "text": [
      "16\n"
     ]
    }
   ],
   "source": [
    "# Example\n",
    "\n",
    "def square(x):\n",
    "    \"\"\"This function returns the square of a number.\"\"\"\n",
    "    return x * x\n",
    "\n",
    "result = square(4)\n",
    "print(result)  # Outputs: 16"
   ]
  },
  {
   "cell_type": "markdown",
   "id": "3ea90672",
   "metadata": {},
   "source": [
    "##### Function | Class Work"
   ]
  },
  {
   "cell_type": "code",
   "execution_count": 6,
   "id": "5fc780d2",
   "metadata": {},
   "outputs": [],
   "source": [
    "# There are 2 types:\n",
    "    # User-defined : Save code on f(x) function\n",
    "    # Pre-defined\n",
    "    \n",
    "\n",
    "    \n",
    "# Steps:\n",
    "    # add ---Parameter (a)\n",
    "    # Documentation: \"\"\"__---__\"\"\"\n",
    "    # Body: print, returen\n",
    "    # add (2)"
   ]
  },
  {
   "cell_type": "code",
   "execution_count": 7,
   "id": "ad5a4ebd",
   "metadata": {},
   "outputs": [],
   "source": [
    "def add(a):\n",
    "    \"\"\"\n",
    "    add 1 to a and save it in b\n",
    "    \"\"\"\n",
    "    b = a + 1\n",
    "    print(a,\"If you add 1, it becomes\", b)\n",
    "    return(b)"
   ]
  },
  {
   "cell_type": "code",
   "execution_count": 8,
   "id": "21e3a1c3",
   "metadata": {},
   "outputs": [
    {
     "name": "stdout",
     "output_type": "stream",
     "text": [
      "2 If you add 1, it becomes 3\n"
     ]
    },
    {
     "data": {
      "text/plain": [
       "3"
      ]
     },
     "execution_count": 8,
     "metadata": {},
     "output_type": "execute_result"
    }
   ],
   "source": [
    "add(2)"
   ]
  },
  {
   "cell_type": "code",
   "execution_count": 9,
   "id": "3477af38",
   "metadata": {},
   "outputs": [
    {
     "name": "stdout",
     "output_type": "stream",
     "text": [
      "Help on function add in module __main__:\n",
      "\n",
      "add(a)\n",
      "    add 1 to a and save it in b\n",
      "\n"
     ]
    }
   ],
   "source": [
    "help(add)"
   ]
  },
  {
   "cell_type": "code",
   "execution_count": 10,
   "id": "e368d359",
   "metadata": {},
   "outputs": [],
   "source": [
    "def multiplication(a,b):\n",
    "    c=a*b\n",
    "    print(\"Multiplication\")\n",
    "    return(c)       ##If you write 'return()', nothing will be appeared"
   ]
  },
  {
   "cell_type": "code",
   "execution_count": 11,
   "id": "0c3c4517",
   "metadata": {},
   "outputs": [
    {
     "name": "stdout",
     "output_type": "stream",
     "text": [
      "Multiplication\n"
     ]
    },
    {
     "data": {
      "text/plain": [
       "50"
      ]
     },
     "execution_count": 11,
     "metadata": {},
     "output_type": "execute_result"
    }
   ],
   "source": [
    "multiplication(10,5)"
   ]
  },
  {
   "cell_type": "code",
   "execution_count": 6,
   "id": "20d178ba",
   "metadata": {},
   "outputs": [],
   "source": [
    "def MJ():\n",
    "    print(\"python\")\n",
    "    \n",
    "def MJ1():\n",
    "    print(\"Python\")\n",
    "    return(None)"
   ]
  },
  {
   "cell_type": "code",
   "execution_count": 7,
   "id": "22f8aefd",
   "metadata": {},
   "outputs": [
    {
     "name": "stdout",
     "output_type": "stream",
     "text": [
      "Python\n"
     ]
    }
   ],
   "source": [
    "MJ1()"
   ]
  },
  {
   "cell_type": "code",
   "execution_count": 8,
   "id": "c3c748d7",
   "metadata": {},
   "outputs": [
    {
     "name": "stdout",
     "output_type": "stream",
     "text": [
      "python\n"
     ]
    }
   ],
   "source": [
    "MJ()"
   ]
  },
  {
   "cell_type": "code",
   "execution_count": 9,
   "id": "fb4cab07",
   "metadata": {},
   "outputs": [],
   "source": [
    "def MJ2():\n",
    "    a=1+1\n",
    "    return(a)"
   ]
  },
  {
   "cell_type": "code",
   "execution_count": 10,
   "id": "e8574c33",
   "metadata": {},
   "outputs": [
    {
     "data": {
      "text/plain": [
       "2"
      ]
     },
     "execution_count": 10,
     "metadata": {},
     "output_type": "execute_result"
    }
   ],
   "source": [
    "MJ2()"
   ]
  },
  {
   "cell_type": "code",
   "execution_count": 11,
   "id": "75649372",
   "metadata": {},
   "outputs": [
    {
     "name": "stdout",
     "output_type": "stream",
     "text": [
      "python\n",
      "None\n"
     ]
    }
   ],
   "source": [
    "print(MJ())          #Call MJ and MJ1"
   ]
  },
  {
   "cell_type": "code",
   "execution_count": 12,
   "id": "bc3574fe",
   "metadata": {},
   "outputs": [
    {
     "name": "stdout",
     "output_type": "stream",
     "text": [
      "2\n"
     ]
    }
   ],
   "source": [
    "print(MJ2())"
   ]
  },
  {
   "cell_type": "markdown",
   "id": "5e48f580",
   "metadata": {},
   "source": [
    "Create a function that concatenates 2 trings using the addition operation:"
   ]
  },
  {
   "cell_type": "code",
   "execution_count": 13,
   "id": "f710e6a8",
   "metadata": {},
   "outputs": [],
   "source": [
    "def con(a,b):\n",
    "    return (a+b)"
   ]
  },
  {
   "cell_type": "code",
   "execution_count": 14,
   "id": "feda6049",
   "metadata": {},
   "outputs": [
    {
     "data": {
      "text/plain": [
       "7"
      ]
     },
     "execution_count": 14,
     "metadata": {},
     "output_type": "execute_result"
    }
   ],
   "source": [
    "con(2,5)"
   ]
  },
  {
   "cell_type": "code",
   "execution_count": 15,
   "id": "a8848e4b",
   "metadata": {},
   "outputs": [
    {
     "data": {
      "text/plain": [
       "'Nisa Tehzeeb'"
      ]
     },
     "execution_count": 15,
     "metadata": {},
     "output_type": "execute_result"
    }
   ],
   "source": [
    "con(\"Nisa \",\"Tehzeeb\")"
   ]
  },
  {
   "cell_type": "markdown",
   "id": "55095fbe",
   "metadata": {},
   "source": [
    "Functions Make things simple:"
   ]
  },
  {
   "cell_type": "code",
   "execution_count": 16,
   "id": "08ef2705",
   "metadata": {},
   "outputs": [
    {
     "data": {
      "text/plain": [
       "5"
      ]
     },
     "execution_count": 16,
     "metadata": {},
     "output_type": "execute_result"
    }
   ],
   "source": [
    "a1 = 4\n",
    "b1 = 5\n",
    "c1 = a1 + b1 + 2*a1*b1 - 1\n",
    "\n",
    "if (c1<0):\n",
    "    c1 = 0\n",
    "else:\n",
    "    c1 = 5\n",
    "    \n",
    "c1"
   ]
  },
  {
   "cell_type": "code",
   "execution_count": 17,
   "id": "d0384315",
   "metadata": {},
   "outputs": [
    {
     "data": {
      "text/plain": [
       "0"
      ]
     },
     "execution_count": 17,
     "metadata": {},
     "output_type": "execute_result"
    }
   ],
   "source": [
    "a1 = 0\n",
    "b1 = 0\n",
    "c1 = a1 + b1 + 2*a1*b1 - 1\n",
    "\n",
    "if (c1<0):\n",
    "    c1 = 0\n",
    "else:\n",
    "    c1 = 5\n",
    "    \n",
    "c1"
   ]
  },
  {
   "cell_type": "markdown",
   "id": "2ef3225c",
   "metadata": {},
   "source": [
    "Creating BLOCK Function:"
   ]
  },
  {
   "cell_type": "code",
   "execution_count": 18,
   "id": "b4f8c921",
   "metadata": {},
   "outputs": [],
   "source": [
    "def Equation(a,b):\n",
    "    c = a + b + 2*a*b - 1\n",
    "    \n",
    "    if (c<0):\n",
    "        c=0\n",
    "    else:\n",
    "        c=5\n",
    "    return(c)"
   ]
  },
  {
   "cell_type": "code",
   "execution_count": 19,
   "id": "195166a8",
   "metadata": {},
   "outputs": [
    {
     "data": {
      "text/plain": [
       "5"
      ]
     },
     "execution_count": 19,
     "metadata": {},
     "output_type": "execute_result"
    }
   ],
   "source": [
    "Equation(2,2)"
   ]
  },
  {
   "cell_type": "markdown",
   "id": "7a3a3f18",
   "metadata": {},
   "source": [
    "Using if/else Statement and Loops in Functions:"
   ]
  },
  {
   "cell_type": "code",
   "execution_count": 20,
   "id": "858959e5",
   "metadata": {},
   "outputs": [],
   "source": [
    "## if/else in a Function:\n",
    "\n",
    "def type_of_album(artist, album, year_released):\n",
    "    print(artist, album, year_released)\n",
    "    \n",
    "    if year_released>1980:\n",
    "        return \"Modern\"\n",
    "    else:\n",
    "        return \"Oldie\""
   ]
  },
  {
   "cell_type": "code",
   "execution_count": 21,
   "id": "27573249",
   "metadata": {},
   "outputs": [
    {
     "name": "stdout",
     "output_type": "stream",
     "text": [
      "Pop Thriller 1970\n",
      "Oldie\n"
     ]
    }
   ],
   "source": [
    "x = type_of_album(\"Pop\", \"Thriller\", 1970)\n",
    "print(x)"
   ]
  },
  {
   "cell_type": "code",
   "execution_count": 22,
   "id": "26bf29c7",
   "metadata": {},
   "outputs": [],
   "source": [
    "## Loop in a Function:\n",
    "\n",
    "\n",
    "def printlist(the_list):\n",
    "    for element in the_list:\n",
    "        print(element)"
   ]
  },
  {
   "cell_type": "code",
   "execution_count": 23,
   "id": "0591ecc3",
   "metadata": {},
   "outputs": [
    {
     "name": "stdout",
     "output_type": "stream",
     "text": [
      "1\n",
      "1\n",
      "The man\n",
      "abc\n"
     ]
    }
   ],
   "source": [
    "printlist([\"1\", 1, \"The man\", \"abc\"])"
   ]
  },
  {
   "cell_type": "markdown",
   "id": "d8b2d1b9",
   "metadata": {},
   "source": [
    "Setting default argument values in your custom functions:"
   ]
  },
  {
   "cell_type": "code",
   "execution_count": 24,
   "id": "522bb039",
   "metadata": {},
   "outputs": [],
   "source": [
    "def isGoodRating(rating=4):\n",
    "    if (rating<7):\n",
    "        print(\"This ablum is bad, its rating is\",rating)\n",
    "    else:\n",
    "        print(\"This album is good with rating\", rating)"
   ]
  },
  {
   "cell_type": "code",
   "execution_count": 25,
   "id": "26f587cf",
   "metadata": {},
   "outputs": [
    {
     "name": "stdout",
     "output_type": "stream",
     "text": [
      "This ablum is bad, its rating is 4\n"
     ]
    }
   ],
   "source": [
    "isGoodRating()"
   ]
  },
  {
   "cell_type": "code",
   "execution_count": 26,
   "id": "1366cb3b",
   "metadata": {},
   "outputs": [
    {
     "name": "stdout",
     "output_type": "stream",
     "text": [
      "This album is good with rating 9\n"
     ]
    }
   ],
   "source": [
    "isGoodRating(9)"
   ]
  },
  {
   "cell_type": "markdown",
   "id": "27cc2072",
   "metadata": {},
   "source": [
    "### Scope of Variables | Global & Local Variable"
   ]
  },
  {
   "cell_type": "markdown",
   "id": "ac6de5e1",
   "metadata": {},
   "source": [
    "The scope of a variable determines where in the program a variable can be accessed. Python has two main scopes:\n",
    "\n",
    "\n",
    "    Local Scope: Variables defined within a function are in the local scope and can only be accessed within that function.\n",
    "\n",
    "    Global Scope: Variables defined outside any function are in the global scope and can be accessed from anywhere in the code."
   ]
  },
  {
   "cell_type": "code",
   "execution_count": 5,
   "id": "a9ab6b4a",
   "metadata": {},
   "outputs": [
    {
     "name": "stdout",
     "output_type": "stream",
     "text": [
      "Local x: 5\n",
      "Global x: 10\n"
     ]
    }
   ],
   "source": [
    "# Example \n",
    "\n",
    "x = 10  # Global variable\n",
    "\n",
    "def func():\n",
    "    x = 5  # Local variable\n",
    "    print(\"Local x:\", x)\n",
    "\n",
    "func()  # Outputs: Local x: 5\n",
    "print(\"Global x:\", x)  # Outputs: Global x: 10\n"
   ]
  },
  {
   "cell_type": "code",
   "execution_count": 27,
   "id": "ff539f3c",
   "metadata": {},
   "outputs": [
    {
     "name": "stdout",
     "output_type": "stream",
     "text": [
      "Imrana Yasmin is an artist\n"
     ]
    }
   ],
   "source": [
    "## Global\n",
    "\n",
    "artist = \"Imrana Yasmin\"   #Global Variable: defined outside the functing#\n",
    "\n",
    "def printer1(artist):\n",
    "    interval_var = artist  #Local Variable: defined INside the functing#\n",
    "    print(artist, \"is an artist\")\n",
    "    \n",
    "printer1(artist)           #Global Variables can be used anywhere\n",
    "#print(interval_var)       #You cannot use internal var to print, Cannot use outside the function#"
   ]
  },
  {
   "cell_type": "code",
   "execution_count": 28,
   "id": "adbc0784",
   "metadata": {},
   "outputs": [
    {
     "name": "stdout",
     "output_type": "stream",
     "text": [
      "Internal Variable:  Imrana Yasmin\n",
      "Imrana Yasmin is an artist\n"
     ]
    }
   ],
   "source": [
    "artist = \"Imrana Yasmin\"  \n",
    "\n",
    "def printer1(artist):\n",
    "    interval_var = artist \n",
    "    \n",
    "    print(\"Internal Variable: \", interval_var)\n",
    "    print(artist, \"is an artist\")\n",
    "    \n",
    "printer1(artist)    "
   ]
  },
  {
   "cell_type": "code",
   "execution_count": 30,
   "id": "d5c5d0e8",
   "metadata": {},
   "outputs": [
    {
     "name": "stdout",
     "output_type": "stream",
     "text": [
      "Imrana Yasmin is an artist\n",
      "Rimi Khan is an artist\n",
      "Rimi Khan\n"
     ]
    }
   ],
   "source": [
    "artist = \"Imrana Yasmin\"\n",
    "\n",
    "def printer(artist):\n",
    "    global internal_var\n",
    "    internal_var = \"Rimi Khan\"\n",
    "    print(artist, \"is an artist\")\n",
    "\n",
    "printer(artist)\n",
    "printer(internal_var)\n",
    "\n",
    "print(internal_var)"
   ]
  },
  {
   "cell_type": "code",
   "execution_count": 31,
   "id": "c01b1be2",
   "metadata": {},
   "outputs": [
    {
     "name": "stdout",
     "output_type": "stream",
     "text": [
      "AC/DC's rating is:  10.0\n",
      "Deep Purple's rating is:  0.0\n",
      "My favourite Brand is:  AC/DC\n"
     ]
    }
   ],
   "source": [
    "myfavouriteBrand = \"AC/DC\"   #Global Variable#\n",
    "\n",
    "def getBrandRating (brandname):\n",
    "    if brandname == myfavouriteBrand:\n",
    "        return 10.0\n",
    "    else:\n",
    "        return 0.0\n",
    "    \n",
    "print(\"AC/DC's rating is: \", getBrandRating(\"AC/DC\"))\n",
    "\n",
    "print(\"Deep Purple's rating is: \", getBrandRating(\"Deep Purple\"))\n",
    "\n",
    "print(\"My favourite Brand is: \", myfavouriteBrand)"
   ]
  },
  {
   "cell_type": "code",
   "execution_count": 32,
   "id": "d2847270",
   "metadata": {},
   "outputs": [
    {
     "name": "stdout",
     "output_type": "stream",
     "text": [
      "AC/DC's rating is:  0.0\n",
      "Deep Purple's rating is:  10.0\n",
      "My favourite Brand is:  AC/DC\n"
     ]
    }
   ],
   "source": [
    "myfavouriteBrand = \"AC/DC\"   #Local Variable#\n",
    "\n",
    "def getBrandRating (brandname):\n",
    "    myfavouriteBrand = \"Deep Purple\"  #Local Variable#\n",
    "    \n",
    "    if brandname == myfavouriteBrand:\n",
    "        return 10.0\n",
    "    else:\n",
    "        return 0.0\n",
    "    \n",
    "print(\"AC/DC's rating is: \", getBrandRating(\"AC/DC\"))\n",
    "\n",
    "print(\"Deep Purple's rating is: \", getBrandRating(\"Deep Purple\"))\n",
    "\n",
    "print(\"My favourite Brand is: \", myfavouriteBrand)"
   ]
  },
  {
   "cell_type": "markdown",
   "id": "ae7a43c4",
   "metadata": {},
   "source": [
    "## >>>> Lambda Function <<<<"
   ]
  },
  {
   "cell_type": "markdown",
   "id": "851873d2",
   "metadata": {},
   "source": [
    "Lambda functions are small anonymous functions defined with the 'lambda' keyword. They can have any number of arguments but only one expression."
   ]
  },
  {
   "cell_type": "code",
   "execution_count": 33,
   "id": "1801ce3a",
   "metadata": {},
   "outputs": [
    {
     "name": "stdout",
     "output_type": "stream",
     "text": [
      "5\n"
     ]
    }
   ],
   "source": [
    "add = lambda x, y: x + y\n",
    "print(add(2, 3))  "
   ]
  },
  {
   "cell_type": "markdown",
   "id": "3d7c0839",
   "metadata": {},
   "source": [
    "Using Lambda with Built-in Functions:"
   ]
  },
  {
   "cell_type": "code",
   "execution_count": 34,
   "id": "1d88f587",
   "metadata": {},
   "outputs": [
    {
     "name": "stdout",
     "output_type": "stream",
     "text": [
      "[1, 4, 9, 16]\n"
     ]
    }
   ],
   "source": [
    "# map: Applies a function to all items in an input list.\n",
    "\n",
    "numbers = [1, 2, 3, 4]\n",
    "\n",
    "squared = list(map(lambda x: x**2, numbers))\n",
    "\n",
    "print(squared) "
   ]
  },
  {
   "cell_type": "code",
   "execution_count": 35,
   "id": "6ff20a43",
   "metadata": {},
   "outputs": [
    {
     "name": "stdout",
     "output_type": "stream",
     "text": [
      "[2, 4]\n"
     ]
    }
   ],
   "source": [
    "# filter: Filters items out of a list.\n",
    "\n",
    "numbers = [1, 2, 3, 4]\n",
    "\n",
    "even = list(filter(lambda x: x % 2 == 0, numbers))\n",
    "\n",
    "print(even)  "
   ]
  },
  {
   "cell_type": "code",
   "execution_count": 36,
   "id": "c33bd6f8",
   "metadata": {},
   "outputs": [
    {
     "name": "stdout",
     "output_type": "stream",
     "text": [
      "24\n"
     ]
    }
   ],
   "source": [
    "# reduce: Applies a rolling computation to sequential pairs of values in a list.\n",
    "\n",
    "from functools import reduce\n",
    "numbers = [1, 2, 3, 4]\n",
    "product = reduce(lambda x, y: x * y, numbers)\n",
    "print(product)  "
   ]
  },
  {
   "cell_type": "code",
   "execution_count": null,
   "id": "ed301ca0",
   "metadata": {},
   "outputs": [],
   "source": []
  }
 ],
 "metadata": {
  "kernelspec": {
   "display_name": "Python 3 (ipykernel)",
   "language": "python",
   "name": "python3"
  },
  "language_info": {
   "codemirror_mode": {
    "name": "ipython",
    "version": 3
   },
   "file_extension": ".py",
   "mimetype": "text/x-python",
   "name": "python",
   "nbconvert_exporter": "python",
   "pygments_lexer": "ipython3",
   "version": "3.9.7"
  }
 },
 "nbformat": 4,
 "nbformat_minor": 5
}
