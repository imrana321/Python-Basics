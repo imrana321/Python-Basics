{
 "cells": [
  {
   "cell_type": "markdown",
   "id": "be642ae1",
   "metadata": {},
   "source": [
    "# Python Data Structure"
   ]
  },
  {
   "cell_type": "markdown",
   "id": "f5cccaa3",
   "metadata": {},
   "source": [
    "A data structure is a way of organizing, managing, and storing data in a computer so that it can be accessed and modified efficiently. In Python, data structures are used to store a collection of related data. They help in performing operations such as insertion, deletion, searching, and sorting of data effectively. Python provides several built-in data structures, each with its unique characteristics and usage scenarios."
   ]
  },
  {
   "cell_type": "markdown",
   "id": "285019e7",
   "metadata": {},
   "source": [
    "#### Built-in Python Data Structures:"
   ]
  },
  {
   "cell_type": "markdown",
   "id": "3b1c3fc1",
   "metadata": {},
   "source": [
    "#### Lists || .................................. fruits = ['apple', 'banana', 'cherry']\n",
    "\n",
    "    Description: Ordered collections of items. They are mutable, meaning you can change their contents.\n",
    "    Usage: Suitable for ordered data, maintaining a sequence, or when you need to access elements by index.\n",
    "\n",
    "#### Tuples || ............................... coordinates = (10.0, 20.0)\n",
    "    Description: Ordered collections of items. They are immutable, meaning once created, their contents cannot be changed.\n",
    "    Usage: Useful for fixed collections of items that should not be modified, such as coordinates or configuration settings.\n",
    "    \n",
    "#### Dictionaries || ..................... student = {'name': 'Alice', 'age': 25, 'grade': 'A'}\n",
    "    Description: Unordered collections of key-value pairs. They are mutable and can store a dynamic number of values.\n",
    "    Usage: Ideal for associative arrays or mappings, where you need to store data that can be looked up by unique keys.\n",
    "    \n",
    "#### Sets || .................................. unique_numbers = {1, 2, 3, 4}\n",
    "    Description: Unordered collections of unique items. They are mutable and automatically eliminate duplicate elements.\n",
    "    Usage: Perfect for membership tests, removing duplicates from a sequence, and mathematical operations like union, intersection, and difference."
   ]
  },
  {
   "cell_type": "markdown",
   "id": "245bc8c6",
   "metadata": {},
   "source": [
    "## >>>> Data Structure | LIST <<<<"
   ]
  },
  {
   "cell_type": "markdown",
   "id": "bde671ed",
   "metadata": {},
   "source": [
    "Lists are ordered sequence | Square Brackets | Mutable"
   ]
  },
  {
   "cell_type": "markdown",
   "id": "9ef1adda",
   "metadata": {},
   "source": [
    "In a LIST, various structured/types elements can be put : String, Float, List, Tuple"
   ]
  },
  {
   "cell_type": "markdown",
   "id": "b54d59e3",
   "metadata": {},
   "source": [
    "#### LIST | Indexing"
   ]
  },
  {
   "cell_type": "code",
   "execution_count": 4,
   "id": "ed916eef",
   "metadata": {},
   "outputs": [
    {
     "data": {
      "text/plain": [
       "['Michael Jackson', 10.1, 1982]"
      ]
     },
     "execution_count": 4,
     "metadata": {},
     "output_type": "execute_result"
    }
   ],
   "source": [
    "L=[\"Michael Jackson\", 10.1, 1982]\n",
    "\n",
    "L"
   ]
  },
  {
   "cell_type": "code",
   "execution_count": 5,
   "id": "29a5261c",
   "metadata": {},
   "outputs": [
    {
     "name": "stdout",
     "output_type": "stream",
     "text": [
      "The same element using negative and positive INDEXING:\n",
      " Positive:  Michael Jackson \n",
      " Negative:  Michael Jackson\n"
     ]
    }
   ],
   "source": [
    "['Michael Jackson', 10.1, 1982]\n",
    "\n",
    "\n",
    "print(\"The same element using negative and positive INDEXING:\\n Positive: \", L[0],\"\\n Negative: \", L[-3])"
   ]
  },
  {
   "cell_type": "markdown",
   "id": "e79fd259",
   "metadata": {},
   "source": [
    "#### LIST | Contents"
   ]
  },
  {
   "cell_type": "code",
   "execution_count": 6,
   "id": "a76da6ab",
   "metadata": {},
   "outputs": [
    {
     "data": {
      "text/plain": [
       "['python', 10.1, 1986, [1, 2], ('A', 1)]"
      ]
     },
     "execution_count": 6,
     "metadata": {},
     "output_type": "execute_result"
    }
   ],
   "source": [
    "### A Lists can contain: String, float, int, nested-tuple, nested-list\n",
    "\n",
    "\n",
    "[\"python\", 10.1, 1986, [1,2], (\"A\", 1)]"
   ]
  },
  {
   "cell_type": "markdown",
   "id": "5e8f5884",
   "metadata": {},
   "source": [
    "#### LIST | Operations"
   ]
  },
  {
   "cell_type": "code",
   "execution_count": 7,
   "id": "db8c1533",
   "metadata": {},
   "outputs": [
    {
     "data": {
      "text/plain": [
       "['MJ', 1]"
      ]
     },
     "execution_count": 7,
     "metadata": {},
     "output_type": "execute_result"
    }
   ],
   "source": [
    "L=[\"Michael Jackson\", 10.1, 1982, \"MJ\", 1]\n",
    "\n",
    "L[3:5]"
   ]
  },
  {
   "cell_type": "markdown",
   "id": "11ebc49e",
   "metadata": {},
   "source": [
    "#### LIST | Mutable"
   ]
  },
  {
   "cell_type": "code",
   "execution_count": 10,
   "id": "c07887bd",
   "metadata": {},
   "outputs": [
    {
     "data": {
      "text/plain": [
       "['Michael Jackson', 10.2, 'pop', 10]"
      ]
     },
     "execution_count": 10,
     "metadata": {},
     "output_type": "execute_result"
    }
   ],
   "source": [
    "### 'extend' - adds 2 separate elements to a LIST.\n",
    "\n",
    "L=[\"Michael Jackson\", 10.2]\n",
    "\n",
    "L.extend([\"pop\", 10])     \n",
    "\n",
    "L"
   ]
  },
  {
   "cell_type": "code",
   "execution_count": 11,
   "id": "548679bb",
   "metadata": {},
   "outputs": [
    {
     "data": {
      "text/plain": [
       "['Michael Jackson', 10.2, ['pop', 10]]"
      ]
     },
     "execution_count": 11,
     "metadata": {},
     "output_type": "execute_result"
    }
   ],
   "source": [
    "### 'append' - adds one nested element/list to a LIST.\n",
    "\n",
    "L=[\"Michael Jackson\", 10.2]\n",
    "\n",
    "L.append([\"pop\", 10])           \n",
    "\n",
    "L"
   ]
  },
  {
   "cell_type": "code",
   "execution_count": 12,
   "id": "af3a093c",
   "metadata": {},
   "outputs": [
    {
     "name": "stdout",
     "output_type": "stream",
     "text": [
      "Before Change:  ['disco', 10, 1.2]\n",
      "After Change:  ['disco', 10, 'Python']\n"
     ]
    }
   ],
   "source": [
    "### The elements can be chnaged \n",
    "\n",
    "A = [\"disco\", 10, 1.2]\n",
    "print(\"Before Change: \", A)\n",
    "\n",
    "A[2]= \"Python\"\n",
    "print(\"After Change: \", A)"
   ]
  },
  {
   "cell_type": "code",
   "execution_count": 13,
   "id": "2a4c6776",
   "metadata": {},
   "outputs": [
    {
     "name": "stdout",
     "output_type": "stream",
     "text": [
      "Before Change:  ['disco', 10, 1.2]\n",
      "After Change:  ['disco', 10]\n"
     ]
    }
   ],
   "source": [
    "### The elements can be deleted\n",
    "\n",
    "A = [\"disco\", 10, 1.2]\n",
    "print(\"Before Change: \", A)\n",
    "\n",
    "del(A[2])\n",
    "print(\"After Change: \", A)"
   ]
  },
  {
   "cell_type": "markdown",
   "id": "9083bfe3",
   "metadata": {},
   "source": [
    "#### LIST | String to List"
   ]
  },
  {
   "cell_type": "code",
   "execution_count": 14,
   "id": "c81712fc",
   "metadata": {},
   "outputs": [
    {
     "data": {
      "text/plain": [
       "['Hard', 'Rock']"
      ]
     },
     "execution_count": 14,
     "metadata": {},
     "output_type": "execute_result"
    }
   ],
   "source": [
    "### split : using delimiter. Usually split() takes 'space' by default\n",
    "\n",
    "\"Hard Rock\".split()"
   ]
  },
  {
   "cell_type": "code",
   "execution_count": 15,
   "id": "a1b3bec3",
   "metadata": {},
   "outputs": [
    {
     "data": {
      "text/plain": [
       "['A', 'B', 'C', 'D']"
      ]
     },
     "execution_count": 15,
     "metadata": {},
     "output_type": "execute_result"
    }
   ],
   "source": [
    "### Use delimiter otherwise:\n",
    "### Back Slash '\\' doesn't work as delimiter - \n",
    "\n",
    "\"A/B/C/D\".split(\"/\")"
   ]
  },
  {
   "cell_type": "markdown",
   "id": "df51f3d2",
   "metadata": {},
   "source": [
    "#### LIST | Copy & Clone"
   ]
  },
  {
   "cell_type": "code",
   "execution_count": 16,
   "id": "314a46c2",
   "metadata": {},
   "outputs": [],
   "source": [
    "## Copy -- Changing one list will make the other one changed:\n",
    "\n",
    "A = [\"lolly\", 10, 2.5]\n",
    "\n",
    "B = A"
   ]
  },
  {
   "cell_type": "code",
   "execution_count": 17,
   "id": "4109d828",
   "metadata": {},
   "outputs": [
    {
     "data": {
      "text/plain": [
       "['lolly', 10, 2.5]"
      ]
     },
     "execution_count": 17,
     "metadata": {},
     "output_type": "execute_result"
    }
   ],
   "source": [
    "B"
   ]
  },
  {
   "cell_type": "code",
   "execution_count": 18,
   "id": "3f385c79",
   "metadata": {},
   "outputs": [
    {
     "data": {
      "text/plain": [
       "['lolly', 'Nisa', 2.5]"
      ]
     },
     "execution_count": 18,
     "metadata": {},
     "output_type": "execute_result"
    }
   ],
   "source": [
    "B[1] = \"Nisa\"\n",
    "\n",
    "B"
   ]
  },
  {
   "cell_type": "code",
   "execution_count": 19,
   "id": "d34f8cdc",
   "metadata": {},
   "outputs": [
    {
     "data": {
      "text/plain": [
       "['lolly', 'Nisa', 2.5]"
      ]
     },
     "execution_count": 19,
     "metadata": {},
     "output_type": "execute_result"
    }
   ],
   "source": [
    "A"
   ]
  },
  {
   "cell_type": "code",
   "execution_count": 20,
   "id": "536b1df7",
   "metadata": {},
   "outputs": [
    {
     "data": {
      "text/plain": [
       "['Urmi', 'Rimi', 'NIsa', 'Runa']"
      ]
     },
     "execution_count": 20,
     "metadata": {},
     "output_type": "execute_result"
    }
   ],
   "source": [
    "## Copy -- Changing one list will NOT make the other one changed:\n",
    "\n",
    "C = [\"Urmi\", \"Rimi\", \"NIsa\", \"Runa\"]\n",
    "D = C[:]\n",
    "\n",
    "D"
   ]
  },
  {
   "cell_type": "code",
   "execution_count": 21,
   "id": "2a4c8c06",
   "metadata": {},
   "outputs": [
    {
     "data": {
      "text/plain": [
       "['Urmi', 'Rimi', 'Nisa Moni', 'Runa']"
      ]
     },
     "execution_count": 21,
     "metadata": {},
     "output_type": "execute_result"
    }
   ],
   "source": [
    "D[2] = \"Nisa Moni\"\n",
    "\n",
    "D"
   ]
  },
  {
   "cell_type": "code",
   "execution_count": 22,
   "id": "0193468d",
   "metadata": {},
   "outputs": [
    {
     "data": {
      "text/plain": [
       "['Urmi', 'Rimi', 'NIsa', 'Runa']"
      ]
     },
     "execution_count": 22,
     "metadata": {},
     "output_type": "execute_result"
    }
   ],
   "source": [
    "C"
   ]
  },
  {
   "cell_type": "markdown",
   "id": "0b9fb792",
   "metadata": {},
   "source": [
    "## >>>> Data Structure | TUPLE <<<<"
   ]
  },
  {
   "cell_type": "markdown",
   "id": "23c5023b",
   "metadata": {},
   "source": [
    "Tuple will be within parenthesis | elements will be seprated by \",\" commas | Immutable"
   ]
  },
  {
   "cell_type": "code",
   "execution_count": 23,
   "id": "68441e04",
   "metadata": {},
   "outputs": [
    {
     "data": {
      "text/plain": [
       "('Table', 10, 2.1)"
      ]
     },
     "execution_count": 23,
     "metadata": {},
     "output_type": "execute_result"
    }
   ],
   "source": [
    "## In a TUPLE various structured/types elements can be put : String, Float, List, Tuple\n",
    "\n",
    "Tuple1 = (\"Table\", 10, 2.1)\n",
    "\n",
    "Tuple1"
   ]
  },
  {
   "cell_type": "code",
   "execution_count": 24,
   "id": "53c5b3e8",
   "metadata": {},
   "outputs": [
    {
     "data": {
      "text/plain": [
       "tuple"
      ]
     },
     "execution_count": 24,
     "metadata": {},
     "output_type": "execute_result"
    }
   ],
   "source": [
    "type(Tuple1)"
   ]
  },
  {
   "cell_type": "markdown",
   "id": "d2f19f06",
   "metadata": {},
   "source": [
    "#### TUPLE | Indexes"
   ]
  },
  {
   "cell_type": "code",
   "execution_count": 26,
   "id": "61a5781c",
   "metadata": {},
   "outputs": [
    {
     "data": {
      "text/plain": [
       "'Table'"
      ]
     },
     "execution_count": 26,
     "metadata": {},
     "output_type": "execute_result"
    }
   ],
   "source": [
    "Tuple1[0]"
   ]
  },
  {
   "cell_type": "code",
   "execution_count": 27,
   "id": "0d09edd2",
   "metadata": {},
   "outputs": [
    {
     "data": {
      "text/plain": [
       "2.1"
      ]
     },
     "execution_count": 27,
     "metadata": {},
     "output_type": "execute_result"
    }
   ],
   "source": [
    "Tuple1[2]"
   ]
  },
  {
   "cell_type": "code",
   "execution_count": 28,
   "id": "9df67c85",
   "metadata": {},
   "outputs": [
    {
     "data": {
      "text/plain": [
       "'Table'"
      ]
     },
     "execution_count": 28,
     "metadata": {},
     "output_type": "execute_result"
    }
   ],
   "source": [
    "# Negative Indexing\n",
    "\n",
    "Tuple1[-3]"
   ]
  },
  {
   "cell_type": "markdown",
   "id": "49fe8134",
   "metadata": {},
   "source": [
    "#### TUPLE | Concatenate"
   ]
  },
  {
   "cell_type": "code",
   "execution_count": 29,
   "id": "d2bafa3f",
   "metadata": {},
   "outputs": [
    {
     "data": {
      "text/plain": [
       "('Table', 10, 2.1, 'chair', 10)"
      ]
     },
     "execution_count": 29,
     "metadata": {},
     "output_type": "execute_result"
    }
   ],
   "source": [
    "## We can concatenate or combine tuples by using \"+\" sign:\n",
    "\n",
    "\n",
    "Tuple2 = (\"chair\" , 10)\n",
    "\n",
    "Tuple = Tuple1 + Tuple2\n",
    "\n",
    "Tuple"
   ]
  },
  {
   "cell_type": "markdown",
   "id": "de058283",
   "metadata": {},
   "source": [
    "#### TUPLE | Slicing"
   ]
  },
  {
   "cell_type": "code",
   "execution_count": 30,
   "id": "8ddb16e5",
   "metadata": {},
   "outputs": [],
   "source": [
    "## Each of the element is index no matter the element type\n",
    "\n",
    "Trial =(\"Table\" , 5, 2.23, \"Chair\", 63) "
   ]
  },
  {
   "cell_type": "code",
   "execution_count": 31,
   "id": "307f82b0",
   "metadata": {},
   "outputs": [
    {
     "data": {
      "text/plain": [
       "('Table', 5, 2.23)"
      ]
     },
     "execution_count": 31,
     "metadata": {},
     "output_type": "execute_result"
    }
   ],
   "source": [
    "Trial [0:3]"
   ]
  },
  {
   "cell_type": "code",
   "execution_count": 32,
   "id": "7c5d6155",
   "metadata": {},
   "outputs": [
    {
     "data": {
      "text/plain": [
       "('Chair', 63)"
      ]
     },
     "execution_count": 32,
     "metadata": {},
     "output_type": "execute_result"
    }
   ],
   "source": [
    "Trial[3:5]"
   ]
  },
  {
   "cell_type": "code",
   "execution_count": 33,
   "id": "4d6a4d1d",
   "metadata": {},
   "outputs": [
    {
     "data": {
      "text/plain": [
       "5"
      ]
     },
     "execution_count": 33,
     "metadata": {},
     "output_type": "execute_result"
    }
   ],
   "source": [
    "len(Trial)"
   ]
  },
  {
   "cell_type": "markdown",
   "id": "232e5f34",
   "metadata": {},
   "source": [
    "#### TUPLE | Sorting"
   ]
  },
  {
   "cell_type": "code",
   "execution_count": 35,
   "id": "e51e5658",
   "metadata": {},
   "outputs": [
    {
     "data": {
      "text/plain": [
       "[0, 1, 1, 2, 5, 6, 8, 9, 10]"
      ]
     },
     "execution_count": 35,
     "metadata": {},
     "output_type": "execute_result"
    }
   ],
   "source": [
    "## We can sort the values in a tuple and save it to a new tuple using the code: sorted()\n",
    "## Sorting cannpt be done for multiple data types\n",
    "\n",
    "\n",
    "Ratings = (0, 9, 5, 6, 1, 10, 8, 2, 1)\n",
    "\n",
    "RatingsSorted = sorted(Ratings)\n",
    "\n",
    "RatingsSorted"
   ]
  },
  {
   "cell_type": "code",
   "execution_count": 36,
   "id": "058c0b64",
   "metadata": {},
   "outputs": [
    {
     "data": {
      "text/plain": [
       "[10, 9, 8, 6, 5, 2, 1, 1, 0]"
      ]
     },
     "execution_count": 36,
     "metadata": {},
     "output_type": "execute_result"
    }
   ],
   "source": [
    "Ratings = (0, 9, 5, 6, 1, 10, 8, 2, 1)\n",
    "\n",
    "RatingsSortedD = sorted(Ratings, reverse=True)\n",
    "\n",
    "RatingsSortedD"
   ]
  },
  {
   "cell_type": "markdown",
   "id": "ecf4ce6e",
   "metadata": {},
   "source": [
    "#### TUPLE | Immutable"
   ]
  },
  {
   "cell_type": "code",
   "execution_count": 38,
   "id": "ec953531",
   "metadata": {},
   "outputs": [
    {
     "ename": "TypeError",
     "evalue": "'tuple' object does not support item assignment",
     "output_type": "error",
     "traceback": [
      "\u001b[1;31m---------------------------------------------------------------------------\u001b[0m",
      "\u001b[1;31mTypeError\u001b[0m                                 Traceback (most recent call last)",
      "\u001b[1;32m~\\AppData\\Local\\Temp/ipykernel_1520/2091774717.py\u001b[0m in \u001b[0;36m<module>\u001b[1;34m\u001b[0m\n\u001b[0;32m      3\u001b[0m \u001b[1;33m\u001b[0m\u001b[0m\n\u001b[0;32m      4\u001b[0m \u001b[0mRatings\u001b[0m \u001b[1;33m=\u001b[0m \u001b[1;33m(\u001b[0m\u001b[1;36m0\u001b[0m\u001b[1;33m,\u001b[0m \u001b[1;36m9\u001b[0m\u001b[1;33m,\u001b[0m \u001b[1;36m5\u001b[0m\u001b[1;33m,\u001b[0m \u001b[1;36m6\u001b[0m\u001b[1;33m,\u001b[0m \u001b[1;36m1\u001b[0m\u001b[1;33m,\u001b[0m \u001b[1;36m10\u001b[0m\u001b[1;33m,\u001b[0m \u001b[1;36m8\u001b[0m\u001b[1;33m,\u001b[0m \u001b[1;36m2\u001b[0m\u001b[1;33m,\u001b[0m \u001b[1;36m1\u001b[0m\u001b[1;33m)\u001b[0m\u001b[1;33m\u001b[0m\u001b[1;33m\u001b[0m\u001b[0m\n\u001b[1;32m----> 5\u001b[1;33m \u001b[0mRatings\u001b[0m\u001b[1;33m[\u001b[0m\u001b[1;36m0\u001b[0m\u001b[1;33m]\u001b[0m\u001b[1;33m=\u001b[0m\u001b[1;36m10\u001b[0m                             \u001b[1;31m# Error will Occur\u001b[0m\u001b[1;33m\u001b[0m\u001b[1;33m\u001b[0m\u001b[0m\n\u001b[0m",
      "\u001b[1;31mTypeError\u001b[0m: 'tuple' object does not support item assignment"
     ]
    }
   ],
   "source": [
    "## A tuple's variables are immutable.\n",
    "# It cannot be written as -- trial[0]=10\n",
    "\n",
    "Ratings = (0, 9, 5, 6, 1, 10, 8, 2, 1)\n",
    "Ratings[0]=10                             # Error will Occur"
   ]
  },
  {
   "cell_type": "markdown",
   "id": "c79c3f01",
   "metadata": {},
   "source": [
    "#### TUPLE | Nested Tuple"
   ]
  },
  {
   "cell_type": "code",
   "execution_count": 39,
   "id": "af103b3a",
   "metadata": {},
   "outputs": [],
   "source": [
    "## Tuples (Nesting): Tuples inside a Tuple..\n",
    "## A tuple can contain another tuple as well as other more complex data types. \n",
    "\n",
    "\n",
    "NestedT = (7, 9, (\"table\", \"wall\"), (1.1, 4), (\"chair\", (2,3)))"
   ]
  },
  {
   "cell_type": "code",
   "execution_count": 40,
   "id": "714b8201",
   "metadata": {},
   "outputs": [
    {
     "name": "stdout",
     "output_type": "stream",
     "text": [
      "Element 0 of Tuple:  7\n",
      "Element 1 of Tuple:  9\n",
      "Element 2 of Tuple:  ('table', 'wall')\n",
      "Element 3 of Tuple:  (1.1, 4)\n",
      "Element 4 of Tuple:  ('chair', (2, 3))\n"
     ]
    }
   ],
   "source": [
    "print(\"Element 0 of Tuple: \", NestedT[0])\n",
    "print(\"Element 1 of Tuple: \", NestedT[1])\n",
    "print(\"Element 2 of Tuple: \", NestedT[2])\n",
    "print(\"Element 3 of Tuple: \", NestedT[3])\n",
    "print(\"Element 4 of Tuple: \", NestedT[4])"
   ]
  },
  {
   "cell_type": "code",
   "execution_count": 41,
   "id": "16bc2caf",
   "metadata": {},
   "outputs": [
    {
     "name": "stdout",
     "output_type": "stream",
     "text": [
      "Element 4, 0 of the Tuple:  2\n"
     ]
    }
   ],
   "source": [
    "print(\"Element 4, 0 of the Tuple: \", NestedT[4][1][0])"
   ]
  },
  {
   "cell_type": "markdown",
   "id": "b7448708",
   "metadata": {},
   "source": [
    "## >>>> Data Structure | DICTIONARIES <<<<"
   ]
  },
  {
   "cell_type": "markdown",
   "id": "98d4c7c5",
   "metadata": {},
   "source": [
    "We can delete any key from a Dictionary | Keys are immutable but values are not. So, tuples can be used as a key."
   ]
  },
  {
   "cell_type": "code",
   "execution_count": 42,
   "id": "1d9ba19a",
   "metadata": {},
   "outputs": [
    {
     "data": {
      "text/plain": [
       "{'key1': 1,\n",
       " 'movie': '2',\n",
       " 'key3': [3, 3, 4],\n",
       " 'example': (4, 4, 4),\n",
       " 'key5': 5,\n",
       " (7, 8): 5,\n",
       " 'table': 1}"
      ]
     },
     "execution_count": 42,
     "metadata": {},
     "output_type": "execute_result"
    }
   ],
   "source": [
    "### Create Dictionary\n",
    "\n",
    "dict_example = {\"key1\" : 1, \n",
    "                \"movie\" : \"2\",\n",
    "                \"key3\" : [3,3,4],\n",
    "               \"example\": (4,4,4), \n",
    "                (\"key5\"):5,\n",
    "               (7,8):5,\n",
    "               \"example\": (4,4,4),\n",
    "               \"table\": 1}    ## Keys cannot be repeated. However, values can be repeated \n",
    "\n",
    "dict_example"
   ]
  },
  {
   "cell_type": "code",
   "execution_count": 43,
   "id": "ba30a70b",
   "metadata": {},
   "outputs": [
    {
     "data": {
      "text/plain": [
       "1"
      ]
     },
     "execution_count": 43,
     "metadata": {},
     "output_type": "execute_result"
    }
   ],
   "source": [
    "# The keys can be String\n",
    "\n",
    "dict_example[\"key1\"]"
   ]
  },
  {
   "cell_type": "code",
   "execution_count": 44,
   "id": "b2d5d81d",
   "metadata": {},
   "outputs": [
    {
     "data": {
      "text/plain": [
       "'2'"
      ]
     },
     "execution_count": 44,
     "metadata": {},
     "output_type": "execute_result"
    }
   ],
   "source": [
    "dict_example[\"movie\"]"
   ]
  },
  {
   "cell_type": "code",
   "execution_count": 45,
   "id": "a524cf31",
   "metadata": {},
   "outputs": [
    {
     "data": {
      "text/plain": [
       "5"
      ]
     },
     "execution_count": 45,
     "metadata": {},
     "output_type": "execute_result"
    }
   ],
   "source": [
    "# Keys can be immutable like tuple.\n",
    "\n",
    "dict_example[(7,8)]"
   ]
  },
  {
   "cell_type": "code",
   "execution_count": 46,
   "id": "f2b08ce0",
   "metadata": {},
   "outputs": [
    {
     "data": {
      "text/plain": [
       "{'Thriller': 1982,\n",
       " 'Back in Black': 1973,\n",
       " 'The Bodyguard': 1992,\n",
       " 'Bat Out of Hell': 1977,\n",
       " 'Their Greatest': 1980}"
      ]
     },
     "execution_count": 46,
     "metadata": {},
     "output_type": "execute_result"
    }
   ],
   "source": [
    "release_year_dict = {\"Thriller\": 1982,\n",
    "                    \"Back in Black\": 1973,\n",
    "                    \"The Bodyguard\": 1992,\n",
    "                    \"Bat Out of Hell\": 1977,\n",
    "                    \"Their Greatest\": 1980}\n",
    "release_year_dict"
   ]
  },
  {
   "cell_type": "code",
   "execution_count": 47,
   "id": "92ed6af9",
   "metadata": {},
   "outputs": [
    {
     "data": {
      "text/plain": [
       "1982"
      ]
     },
     "execution_count": 47,
     "metadata": {},
     "output_type": "execute_result"
    }
   ],
   "source": [
    "release_year_dict[\"Thriller\"]"
   ]
  },
  {
   "cell_type": "code",
   "execution_count": 48,
   "id": "d6fa79e3",
   "metadata": {},
   "outputs": [
    {
     "data": {
      "text/plain": [
       "dict_keys(['Thriller', 'Back in Black', 'The Bodyguard', 'Bat Out of Hell', 'Their Greatest'])"
      ]
     },
     "execution_count": 48,
     "metadata": {},
     "output_type": "execute_result"
    }
   ],
   "source": [
    "release_year_dict.keys()"
   ]
  },
  {
   "cell_type": "code",
   "execution_count": 49,
   "id": "8d01d2c2",
   "metadata": {},
   "outputs": [
    {
     "data": {
      "text/plain": [
       "dict_values([1982, 1973, 1992, 1977, 1980])"
      ]
     },
     "execution_count": 49,
     "metadata": {},
     "output_type": "execute_result"
    }
   ],
   "source": [
    "release_year_dict.values()"
   ]
  },
  {
   "cell_type": "code",
   "execution_count": 50,
   "id": "4e73de09",
   "metadata": {},
   "outputs": [
    {
     "data": {
      "text/plain": [
       "{'Thriller': 1982,\n",
       " 'Back in Black': 1973,\n",
       " 'The Bodyguard': 1992,\n",
       " 'Bat Out of Hell': 1977,\n",
       " 'Their Greatest': 1980,\n",
       " 'Graduation': '2007',\n",
       " 'Python': '2023'}"
      ]
     },
     "execution_count": 50,
     "metadata": {},
     "output_type": "execute_result"
    }
   ],
   "source": [
    "# add value to the dictionary\n",
    "\n",
    "release_year_dict[\"Graduation\"]=\"2007\"\n",
    "release_year_dict\n",
    "\n",
    "release_year_dict[\"Python\"]=\"2023\"\n",
    "release_year_dict"
   ]
  },
  {
   "cell_type": "code",
   "execution_count": 51,
   "id": "f383b121",
   "metadata": {},
   "outputs": [
    {
     "data": {
      "text/plain": [
       "{'Thriller': 1982,\n",
       " 'Back in Black': 1973,\n",
       " 'The Bodyguard': 1992,\n",
       " 'Bat Out of Hell': 1977,\n",
       " 'Their Greatest': 1980,\n",
       " 'Graduation': '2007'}"
      ]
     },
     "execution_count": 51,
     "metadata": {},
     "output_type": "execute_result"
    }
   ],
   "source": [
    "# Delete element\n",
    "\n",
    "del(release_year_dict[\"Python\"])\n",
    "\n",
    "release_year_dict"
   ]
  },
  {
   "cell_type": "code",
   "execution_count": 52,
   "id": "974fb89d",
   "metadata": {},
   "outputs": [
    {
     "data": {
      "text/plain": [
       "{'Thriller': 1982,\n",
       " 'Back in Black': 1973,\n",
       " 'The Bodyguard': 1992,\n",
       " 'Bat Out of Hell': 1977,\n",
       " 'Their Greatest': 1980,\n",
       " 'Graduation': '2007'}"
      ]
     },
     "execution_count": 52,
     "metadata": {},
     "output_type": "execute_result"
    }
   ],
   "source": [
    "release_year_dict[\"Graduation\"]=\"2007\"\n",
    "release_year_dict"
   ]
  },
  {
   "cell_type": "code",
   "execution_count": 53,
   "id": "a8f63501",
   "metadata": {},
   "outputs": [
    {
     "data": {
      "text/plain": [
       "True"
      ]
     },
     "execution_count": 53,
     "metadata": {},
     "output_type": "execute_result"
    }
   ],
   "source": [
    "\"The Bodyguard\" in release_year_dict"
   ]
  },
  {
   "cell_type": "code",
   "execution_count": 54,
   "id": "9717c01a",
   "metadata": {},
   "outputs": [
    {
     "data": {
      "text/plain": [
       "False"
      ]
     },
     "execution_count": 54,
     "metadata": {},
     "output_type": "execute_result"
    }
   ],
   "source": [
    "\"Programming\" in release_year_dict"
   ]
  },
  {
   "cell_type": "markdown",
   "id": "d3f5a1e0",
   "metadata": {},
   "source": [
    "## >>>> Data Structure | SETS <<<<"
   ]
  },
  {
   "cell_type": "markdown",
   "id": "67e55938",
   "metadata": {},
   "source": [
    "Do NOT records element's POSITIONs | Orderless | No Parenthesis | Curly Brackets | Use unique elements"
   ]
  },
  {
   "cell_type": "markdown",
   "id": "c80dd52c",
   "metadata": {},
   "source": [
    "#### SETS | Content"
   ]
  },
  {
   "cell_type": "code",
   "execution_count": 55,
   "id": "84632d8f",
   "metadata": {},
   "outputs": [
    {
     "data": {
      "text/plain": [
       "{'R&B', 'dosco', 'hard rock', 'pop', 'rock', 'soul'}"
      ]
     },
     "execution_count": 55,
     "metadata": {},
     "output_type": "execute_result"
    }
   ],
   "source": [
    "set1 = {\"pop\", \"rock\", \"soul\", \"hard rock\", \"rock\", \"R&B\", \"rock\", \"dosco\"}\n",
    "\n",
    "set1"
   ]
  },
  {
   "cell_type": "markdown",
   "id": "d2235a11",
   "metadata": {},
   "source": [
    "#### SETS | Set From List"
   ]
  },
  {
   "cell_type": "code",
   "execution_count": 72,
   "id": "5fabb411",
   "metadata": {},
   "outputs": [
    {
     "data": {
      "text/plain": [
       "{'00:42:19',\n",
       " 10.0,\n",
       " 1982,\n",
       " '3-Jan-86',\n",
       " 46.6,\n",
       " 'Michael Jackson',\n",
       " None,\n",
       " 'Pop, Rock, R&B',\n",
       " 'Thriller'}"
      ]
     },
     "execution_count": 72,
     "metadata": {},
     "output_type": "execute_result"
    }
   ],
   "source": [
    "album_list = [\"Michael Jackson\", \"Thriller\", 1982, \"00:42:19\", \\\n",
    "             \"Pop, Rock, R&B\", 46.6, \"3-Jan-86\", None, 10.0]\n",
    "\n",
    "album_list=set(album_list)\n",
    "\n",
    "album_list"
   ]
  },
  {
   "cell_type": "code",
   "execution_count": 57,
   "id": "8a97b6d3",
   "metadata": {},
   "outputs": [
    {
     "data": {
      "text/plain": [
       "{'00:42:19',\n",
       " 10.0,\n",
       " 1982,\n",
       " '3-Jan-86',\n",
       " 46.6,\n",
       " 'Michael Jackson',\n",
       " None,\n",
       " 'Pop, Rock, R&B',\n",
       " 'Thriller'}"
      ]
     },
     "execution_count": 57,
     "metadata": {},
     "output_type": "execute_result"
    }
   ],
   "source": [
    "### It can be written diractly with 'set'\n",
    "\n",
    "\n",
    "album_list = set([\"Michael Jackson\", \"Thriller\", 1982, \"00:42:19\", \\\n",
    "             \"Pop, Rock, R&B\", 46.6, \"3-Jan-86\", None, 10.0])\n",
    "\n",
    "album_list "
   ]
  },
  {
   "cell_type": "markdown",
   "id": "8592f59f",
   "metadata": {},
   "source": [
    "#### SETS | Operations"
   ]
  },
  {
   "cell_type": "code",
   "execution_count": 60,
   "id": "8ed13d55",
   "metadata": {},
   "outputs": [
    {
     "data": {
      "text/plain": [
       "{'AC/DC', 'Black in back', 'Python', 'Thriller'}"
      ]
     },
     "execution_count": 60,
     "metadata": {},
     "output_type": "execute_result"
    }
   ],
   "source": [
    "# Add elements to set:\n",
    "\n",
    "A = set ([\"Thriller\", \"Black in back\", \"AC/DC\"])   \n",
    "\n",
    "A.add(\"Python\")\n",
    "\n",
    "A"
   ]
  },
  {
   "cell_type": "code",
   "execution_count": 61,
   "id": "b7b676a8",
   "metadata": {},
   "outputs": [
    {
     "data": {
      "text/plain": [
       "{'AC/DC', 'Black in back', 'Python'}"
      ]
     },
     "execution_count": 61,
     "metadata": {},
     "output_type": "execute_result"
    }
   ],
   "source": [
    "# Remove element from set:\n",
    "\n",
    "A.remove(\"Thriller\")\n",
    "\n",
    "A"
   ]
  },
  {
   "cell_type": "code",
   "execution_count": 62,
   "id": "2ba76630",
   "metadata": {},
   "outputs": [
    {
     "data": {
      "text/plain": [
       "{'AC/DC', 'Black in back', 'Python'}"
      ]
     },
     "execution_count": 62,
     "metadata": {},
     "output_type": "execute_result"
    }
   ],
   "source": [
    "# You cannot add a same element if it is already there:\n",
    "    \n",
    "A.add(\"AC/DC\")\n",
    "\n",
    "A"
   ]
  },
  {
   "cell_type": "code",
   "execution_count": 63,
   "id": "cde14f5c",
   "metadata": {},
   "outputs": [
    {
     "data": {
      "text/plain": [
       "{'AC/DC', 'AC/DC _', 'Black in back', 'Python'}"
      ]
     },
     "execution_count": 63,
     "metadata": {},
     "output_type": "execute_result"
    }
   ],
   "source": [
    "A.add(\"AC/DC _\")\n",
    "\n",
    "A"
   ]
  },
  {
   "cell_type": "code",
   "execution_count": 64,
   "id": "41f45515",
   "metadata": {},
   "outputs": [
    {
     "data": {
      "text/plain": [
       "True"
      ]
     },
     "execution_count": 64,
     "metadata": {},
     "output_type": "execute_result"
    }
   ],
   "source": [
    "# Check if an element is there:\n",
    "\n",
    "\"Python\" in A"
   ]
  },
  {
   "cell_type": "code",
   "execution_count": 65,
   "id": "1fd85acd",
   "metadata": {},
   "outputs": [
    {
     "data": {
      "text/plain": [
       "False"
      ]
     },
     "execution_count": 65,
     "metadata": {},
     "output_type": "execute_result"
    }
   ],
   "source": [
    "\"Urmi\" in A"
   ]
  },
  {
   "cell_type": "markdown",
   "id": "9554f280",
   "metadata": {},
   "source": [
    "#### SETS | LOGIC Operations"
   ]
  },
  {
   "cell_type": "code",
   "execution_count": 66,
   "id": "4cdf1e54",
   "metadata": {},
   "outputs": [
    {
     "data": {
      "text/plain": [
       "({'AC/DC', 'Black in back', 'Thriller'},\n",
       " {'Black in back', 'The dark Night', 'Thriller'})"
      ]
     },
     "execution_count": 66,
     "metadata": {},
     "output_type": "execute_result"
    }
   ],
   "source": [
    "album_set1 = set([\"Thriller\", \"Black in back\", \"AC/DC\"])\n",
    "album_set2 = set([\"Thriller\", \"Black in back\", \"The dark Night\"])\n",
    "\n",
    "album_set1, album_set2"
   ]
  },
  {
   "cell_type": "code",
   "execution_count": 68,
   "id": "c0e541d9",
   "metadata": {},
   "outputs": [
    {
     "data": {
      "text/plain": [
       "{'Black in back', 'Thriller'}"
      ]
     },
     "execution_count": 68,
     "metadata": {},
     "output_type": "execute_result"
    }
   ],
   "source": [
    "# Intersection between 2 sets:\n",
    "\n",
    "intersection = album_set1.intersection(album_set2)\n",
    "\n",
    "intersection"
   ]
  },
  {
   "cell_type": "code",
   "execution_count": null,
   "id": "b83a7d04",
   "metadata": {},
   "outputs": [],
   "source": [
    "intersection = album_set1 & album_set2\n",
    "\n",
    "intersection"
   ]
  },
  {
   "cell_type": "code",
   "execution_count": 69,
   "id": "793cd3b4",
   "metadata": {},
   "outputs": [
    {
     "data": {
      "text/plain": [
       "{'AC/DC'}"
      ]
     },
     "execution_count": 69,
     "metadata": {},
     "output_type": "execute_result"
    }
   ],
   "source": [
    "# Find out the differences:\n",
    "\n",
    "album_set1.difference(album_set2)"
   ]
  },
  {
   "cell_type": "code",
   "execution_count": 70,
   "id": "bbbc2000",
   "metadata": {},
   "outputs": [
    {
     "data": {
      "text/plain": [
       "{'The dark Night'}"
      ]
     },
     "execution_count": 70,
     "metadata": {},
     "output_type": "execute_result"
    }
   ],
   "source": [
    "album_set2 - (album_set1)"
   ]
  },
  {
   "cell_type": "code",
   "execution_count": 71,
   "id": "5437e9f2",
   "metadata": {},
   "outputs": [
    {
     "data": {
      "text/plain": [
       "{'AC/DC', 'Black in back', 'The dark Night', 'Thriller'}"
      ]
     },
     "execution_count": 71,
     "metadata": {},
     "output_type": "execute_result"
    }
   ],
   "source": [
    "# UNION:\n",
    "\n",
    "album_set1.union(album_set2)"
   ]
  },
  {
   "cell_type": "code",
   "execution_count": null,
   "id": "665d556d",
   "metadata": {},
   "outputs": [],
   "source": []
  }
 ],
 "metadata": {
  "kernelspec": {
   "display_name": "Python 3 (ipykernel)",
   "language": "python",
   "name": "python3"
  },
  "language_info": {
   "codemirror_mode": {
    "name": "ipython",
    "version": 3
   },
   "file_extension": ".py",
   "mimetype": "text/x-python",
   "name": "python",
   "nbconvert_exporter": "python",
   "pygments_lexer": "ipython3",
   "version": "3.9.7"
  }
 },
 "nbformat": 4,
 "nbformat_minor": 5
}
