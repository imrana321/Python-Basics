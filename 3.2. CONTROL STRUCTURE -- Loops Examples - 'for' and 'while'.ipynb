{
 "cells": [
  {
   "cell_type": "markdown",
   "id": "1f9f6d94",
   "metadata": {},
   "source": [
    "# 'for loop' Examples"
   ]
  },
  {
   "cell_type": "markdown",
   "id": "9e4b7239",
   "metadata": {},
   "source": [
    "##### Example 1: Iterating Over a List"
   ]
  },
  {
   "cell_type": "code",
   "execution_count": 3,
   "id": "15ab0446",
   "metadata": {},
   "outputs": [
    {
     "name": "stdout",
     "output_type": "stream",
     "text": [
      "I like apple\n",
      "I like banana\n",
      "I like cherry\n"
     ]
    }
   ],
   "source": [
    "fruits = [\"apple\", \"banana\", \"cherry\"]\n",
    "for fruit in fruits:\n",
    "    print(f\"I like {fruit}\")"
   ]
  },
  {
   "cell_type": "code",
   "execution_count": 4,
   "id": "370623a0",
   "metadata": {},
   "outputs": [],
   "source": [
    "## Explanation :----\n",
    "\n",
    "# The 'for' loop iterates through each item in the list 'fruits'.\n",
    "# The variable 'fruit' takes the value of each element in the list, one at a time.\n",
    "# The loop prints a statement for each fruit."
   ]
  },
  {
   "cell_type": "markdown",
   "id": "51e09037",
   "metadata": {},
   "source": [
    "##### Example 2: Using 'range()' to Loop Through Numbers"
   ]
  },
  {
   "cell_type": "code",
   "execution_count": 4,
   "id": "87d5fcf1",
   "metadata": {},
   "outputs": [
    {
     "name": "stdout",
     "output_type": "stream",
     "text": [
      "Number: 0\n",
      "Number: 1\n",
      "Number: 2\n",
      "Number: 3\n",
      "Number: 4\n"
     ]
    }
   ],
   "source": [
    "for i in range(5):\n",
    "    print(f\"Number: {i}\")"
   ]
  },
  {
   "cell_type": "code",
   "execution_count": 6,
   "id": "f4026052",
   "metadata": {},
   "outputs": [],
   "source": [
    "## Explanation :----\n",
    "\n",
    "# The 'range(5)' generates numbers from 0 to 4 (not including 5).\n",
    "# The variable 'i' takes each number in this range, one at a time.\n",
    "# The loop prints each number."
   ]
  },
  {
   "cell_type": "markdown",
   "id": "9bf40e75",
   "metadata": {},
   "source": [
    "##### Example 3: Looping With a Step in 'range()'"
   ]
  },
  {
   "cell_type": "code",
   "execution_count": 5,
   "id": "d12edc15",
   "metadata": {},
   "outputs": [
    {
     "name": "stdout",
     "output_type": "stream",
     "text": [
      "Step: 0\n",
      "Step: 2\n",
      "Step: 4\n",
      "Step: 6\n",
      "Step: 8\n"
     ]
    }
   ],
   "source": [
    "for i in range(0, 10, 2):\n",
    "    print(f\"Step: {i}\")"
   ]
  },
  {
   "cell_type": "code",
   "execution_count": 7,
   "id": "e2916827",
   "metadata": {},
   "outputs": [],
   "source": [
    "## Explanation :----\n",
    "\n",
    "# 'range(0, 10, 2)' generates numbers starting at 0, up to (but not including) 10, with a step of 2.\n",
    "# The loop prints '0, 2, 4, 6, 8.'"
   ]
  },
  {
   "cell_type": "markdown",
   "id": "1f061171",
   "metadata": {},
   "source": [
    "##### Example 4: Iterating Over a String"
   ]
  },
  {
   "cell_type": "code",
   "execution_count": 6,
   "id": "3412ab41",
   "metadata": {},
   "outputs": [
    {
     "name": "stdout",
     "output_type": "stream",
     "text": [
      "Letter: P\n",
      "Letter: y\n",
      "Letter: t\n",
      "Letter: h\n",
      "Letter: o\n",
      "Letter: n\n"
     ]
    }
   ],
   "source": [
    "word = \"Python\"\n",
    "for letter in word:\n",
    "    print(f\"Letter: {letter}\")"
   ]
  },
  {
   "cell_type": "code",
   "execution_count": 8,
   "id": "b4b4cbb4",
   "metadata": {},
   "outputs": [],
   "source": [
    "## Explanation :----\n",
    "\n",
    "# The 'for' loop iterates through each character in the string 'word.'\n",
    "# The variable 'letter' takes the value of each character, one at a time.\n",
    "# The loop prints each letter of the word."
   ]
  },
  {
   "cell_type": "markdown",
   "id": "7dcab459",
   "metadata": {},
   "source": [
    "##### Example 5: Nested for Loops"
   ]
  },
  {
   "cell_type": "code",
   "execution_count": 7,
   "id": "596a7f3a",
   "metadata": {},
   "outputs": [
    {
     "name": "stdout",
     "output_type": "stream",
     "text": [
      "i: 0, j: 0\n",
      "i: 0, j: 1\n",
      "i: 0, j: 2\n",
      "i: 1, j: 0\n",
      "i: 1, j: 1\n",
      "i: 1, j: 2\n",
      "i: 2, j: 0\n",
      "i: 2, j: 1\n",
      "i: 2, j: 2\n"
     ]
    }
   ],
   "source": [
    "for i in range(3):\n",
    "    for j in range(3):\n",
    "        print(f\"i: {i}, j: {j}\")"
   ]
  },
  {
   "cell_type": "code",
   "execution_count": 9,
   "id": "1d4d8ae9",
   "metadata": {},
   "outputs": [],
   "source": [
    "## Explanation :----\n",
    "\n",
    "# The outer loop '(for i in range(3))' runs 3 times, with 'i' taking values 0, 1, and 2.\n",
    "# For each iteration of the outer loop, the inner loop '(for j in range(3))' runs 3 times.\n",
    "# This creates a combination of all values of 'i' and 'j.'"
   ]
  },
  {
   "cell_type": "markdown",
   "id": "fddbb5dd",
   "metadata": {},
   "source": [
    "##### Example 6: Loop With Conditional Statements"
   ]
  },
  {
   "cell_type": "code",
   "execution_count": 8,
   "id": "37754052",
   "metadata": {},
   "outputs": [
    {
     "name": "stdout",
     "output_type": "stream",
     "text": [
      "1 is odd\n",
      "2 is even\n",
      "3 is odd\n",
      "4 is even\n",
      "5 is odd\n"
     ]
    }
   ],
   "source": [
    "numbers = [1, 2, 3, 4, 5]\n",
    "for num in numbers:\n",
    "    if num % 2 == 0:\n",
    "        print(f\"{num} is even\")\n",
    "    else:\n",
    "        print(f\"{num} is odd\")\n"
   ]
  },
  {
   "cell_type": "code",
   "execution_count": 10,
   "id": "85a6ee3a",
   "metadata": {},
   "outputs": [],
   "source": [
    "## Explanation :----\n",
    "\n",
    "# The loop iterates over the list 'numbers.'\n",
    "# Inside the loop, a condition checks whether the current number '(num)' is even or odd.\n",
    "# It prints a corresponding message.\n"
   ]
  },
  {
   "cell_type": "markdown",
   "id": "17149767",
   "metadata": {},
   "source": [
    "##### Example 7: Using break to Exit a Loop Early"
   ]
  },
  {
   "cell_type": "code",
   "execution_count": 9,
   "id": "27294094",
   "metadata": {},
   "outputs": [
    {
     "name": "stdout",
     "output_type": "stream",
     "text": [
      "1\n",
      "2\n",
      "3\n",
      "4\n",
      "Breaking the loop\n"
     ]
    }
   ],
   "source": [
    "for num in range(1, 10):\n",
    "    if num == 5:\n",
    "        print(\"Breaking the loop\")\n",
    "        break\n",
    "    print(num)\n"
   ]
  },
  {
   "cell_type": "code",
   "execution_count": 11,
   "id": "f87b42cc",
   "metadata": {},
   "outputs": [],
   "source": [
    "## Explanation :----\n",
    "\n",
    "# The loop prints numbers from 1 to 4.\n",
    "# When 'num' equals 5, the 'break' statement exits the loop."
   ]
  },
  {
   "cell_type": "markdown",
   "id": "c86b7b61",
   "metadata": {},
   "source": [
    "##### Example 8: Using continue to Skip Iterations"
   ]
  },
  {
   "cell_type": "code",
   "execution_count": 10,
   "id": "2e7de612",
   "metadata": {},
   "outputs": [
    {
     "name": "stdout",
     "output_type": "stream",
     "text": [
      "1\n",
      "3\n",
      "5\n",
      "7\n",
      "9\n"
     ]
    }
   ],
   "source": [
    "for num in range(1, 10):\n",
    "    if num % 2 == 0:\n",
    "        continue  # Skip even numbers\n",
    "    print(num)\n"
   ]
  },
  {
   "cell_type": "code",
   "execution_count": 12,
   "id": "3a44bb83",
   "metadata": {},
   "outputs": [],
   "source": [
    "## Explanation :----\n",
    "\n",
    "# The loop skips numbers that are even using 'continue.'\n",
    "# Only odd numbers are printed."
   ]
  },
  {
   "cell_type": "markdown",
   "id": "0df3c7b0",
   "metadata": {},
   "source": [
    "##### Example 9: Loop With 'else' Clause"
   ]
  },
  {
   "cell_type": "code",
   "execution_count": 11,
   "id": "5b4204f2",
   "metadata": {},
   "outputs": [
    {
     "name": "stdout",
     "output_type": "stream",
     "text": [
      "1\n",
      "2\n",
      "3\n",
      "Loop completed!\n"
     ]
    }
   ],
   "source": [
    "for num in range(1, 4):\n",
    "    print(num)\n",
    "else:\n",
    "    print(\"Loop completed!\")\n"
   ]
  },
  {
   "cell_type": "code",
   "execution_count": 13,
   "id": "df76e1ef",
   "metadata": {},
   "outputs": [],
   "source": [
    "## Explanation :----\n",
    "\n",
    "# The 'else' block runs after the loop finishes iterating over all items.\n",
    "# It does not run if the loop exits early using 'break.'"
   ]
  },
  {
   "cell_type": "markdown",
   "id": "89abdb42",
   "metadata": {},
   "source": [
    "##### Example 10: List Comprehension (Alternative to 'for' Loop)"
   ]
  },
  {
   "cell_type": "code",
   "execution_count": 12,
   "id": "bcbdfaeb",
   "metadata": {},
   "outputs": [
    {
     "name": "stdout",
     "output_type": "stream",
     "text": [
      "[0, 1, 4, 9, 16]\n"
     ]
    }
   ],
   "source": [
    "squares = [x**2 for x in range(5)]\n",
    "print(squares)\n"
   ]
  },
  {
   "cell_type": "code",
   "execution_count": 14,
   "id": "9fdae77e",
   "metadata": {},
   "outputs": [],
   "source": [
    "## Explanation :----\n",
    "\n",
    "# This is a concise way to create a list using a 'for' loop inside square brackets.\n",
    "# The list 'squares' contains the square of each number in the range 0 to 4."
   ]
  },
  {
   "cell_type": "markdown",
   "id": "bc2956d8",
   "metadata": {},
   "source": [
    "## --------- Advanced Examples ------------"
   ]
  },
  {
   "cell_type": "markdown",
   "id": "dc31a16b",
   "metadata": {},
   "source": [
    "##### Example 1: Looping Over a Dictionary"
   ]
  },
  {
   "cell_type": "code",
   "execution_count": 13,
   "id": "b6320672",
   "metadata": {},
   "outputs": [
    {
     "name": "stdout",
     "output_type": "stream",
     "text": [
      "Alice scored 85\n",
      "Bob scored 90\n",
      "Charlie scored 78\n"
     ]
    }
   ],
   "source": [
    "student_scores = {\"Alice\": 85, \"Bob\": 90, \"Charlie\": 78}\n",
    "\n",
    "# Iterating over keys and values\n",
    "for student, score in student_scores.items():\n",
    "    print(f\"{student} scored {score}\")\n"
   ]
  },
  {
   "cell_type": "code",
   "execution_count": 16,
   "id": "05eac716",
   "metadata": {},
   "outputs": [],
   "source": [
    "## Explanation :----\n",
    "\n",
    "# The '.items()' method of the dictionary returns pairs of keys and values.\n",
    "# The 'for' loop unpacks these pairs into 'student' and 'score.'"
   ]
  },
  {
   "cell_type": "markdown",
   "id": "c02c5eef",
   "metadata": {},
   "source": [
    "##### Example 2: Looping Through Multiple Lists Simultaneously"
   ]
  },
  {
   "cell_type": "code",
   "execution_count": 14,
   "id": "d5f9e5cf",
   "metadata": {},
   "outputs": [
    {
     "name": "stdout",
     "output_type": "stream",
     "text": [
      "Alice is 25 years old\n",
      "Bob is 30 years old\n",
      "Charlie is 35 years old\n"
     ]
    }
   ],
   "source": [
    "names = [\"Alice\", \"Bob\", \"Charlie\"]\n",
    "ages = [25, 30, 35]\n",
    "\n",
    "for name, age in zip(names, ages):\n",
    "    print(f\"{name} is {age} years old\")\n"
   ]
  },
  {
   "cell_type": "code",
   "execution_count": null,
   "id": "49e22f8a",
   "metadata": {},
   "outputs": [],
   "source": [
    "## Explanation :----\n",
    "\n",
    "# The 'zip()' function combines two or more iterables into tuples.\n",
    "# The 'for' loop unpacks each tuple into 'name' and 'age.'"
   ]
  },
  {
   "cell_type": "markdown",
   "id": "bb3b0271",
   "metadata": {},
   "source": [
    "##### Example 3: Loop With a Generator"
   ]
  },
  {
   "cell_type": "code",
   "execution_count": 15,
   "id": "e9acc04e",
   "metadata": {},
   "outputs": [
    {
     "name": "stdout",
     "output_type": "stream",
     "text": [
      "0\n",
      "1\n",
      "4\n",
      "9\n",
      "16\n"
     ]
    }
   ],
   "source": [
    "def generate_squares(n):\n",
    "    for i in range(n):\n",
    "        yield i ** 2\n",
    "\n",
    "for square in generate_squares(5):\n",
    "    print(square)\n"
   ]
  },
  {
   "cell_type": "code",
   "execution_count": null,
   "id": "52566cd7",
   "metadata": {},
   "outputs": [],
   "source": [
    "## Explanation :----\n",
    "\n",
    "# The 'generate_squares' function is a generator that yields square values one at a time.\n",
    "# The 'for' loop retrieves each square value lazily, which is memory-efficient for large datasets."
   ]
  },
  {
   "cell_type": "markdown",
   "id": "6795dc33",
   "metadata": {},
   "source": [
    "##### Example 4: List of Lists (Nested Iterables)"
   ]
  },
  {
   "cell_type": "code",
   "execution_count": 16,
   "id": "d7ad6a45",
   "metadata": {},
   "outputs": [
    {
     "name": "stdout",
     "output_type": "stream",
     "text": [
      "1 2 3 \n",
      "4 5 6 \n",
      "7 8 9 \n"
     ]
    }
   ],
   "source": [
    "matrix = [\n",
    "    [1, 2, 3],\n",
    "    [4, 5, 6],\n",
    "    [7, 8, 9]\n",
    "]\n",
    "\n",
    "for row in matrix:\n",
    "    for element in row:\n",
    "        print(element, end=\" \")\n",
    "    print()  # For new line after each row\n"
   ]
  },
  {
   "cell_type": "code",
   "execution_count": 1,
   "id": "a88e096b",
   "metadata": {},
   "outputs": [],
   "source": [
    "## Explanation :----\n",
    "\n",
    "# The outer loop iterates through each row (list) in the 'matrix.'\n",
    "# The inner loop iterates through each element in the current row."
   ]
  },
  {
   "cell_type": "markdown",
   "id": "538a6a63",
   "metadata": {},
   "source": [
    "##### Example 5: Enumerating With Indices"
   ]
  },
  {
   "cell_type": "code",
   "execution_count": 17,
   "id": "9e48d318",
   "metadata": {},
   "outputs": [
    {
     "name": "stdout",
     "output_type": "stream",
     "text": [
      "Color 1: red\n",
      "Color 2: blue\n",
      "Color 3: green\n"
     ]
    }
   ],
   "source": [
    "colors = [\"red\", \"blue\", \"green\"]\n",
    "\n",
    "for index, color in enumerate(colors):\n",
    "    print(f\"Color {index + 1}: {color}\")\n"
   ]
  },
  {
   "cell_type": "code",
   "execution_count": null,
   "id": "899eb57a",
   "metadata": {},
   "outputs": [],
   "source": [
    "## Explanation :----\n",
    "\n",
    "# The 'enumerate()' function provides both the index and the value for each iteration.\n",
    "# The loop prints the index (starting from 0) and the corresponding color."
   ]
  },
  {
   "cell_type": "markdown",
   "id": "fb9bdb48",
   "metadata": {},
   "source": [
    "##### Example 6: Loop With Try-Except"
   ]
  },
  {
   "cell_type": "code",
   "execution_count": 18,
   "id": "d2c65c89",
   "metadata": {},
   "outputs": [
    {
     "name": "stdout",
     "output_type": "stream",
     "text": [
      "20\n",
      "40\n",
      "60\n",
      "Skipping invalid item: invalid\n",
      "80\n"
     ]
    }
   ],
   "source": [
    "data = [10, \"20\", 30, \"invalid\", 40]\n",
    "\n",
    "for item in data:\n",
    "    try:\n",
    "        print(int(item) * 2)\n",
    "    except ValueError:\n",
    "        print(f\"Skipping invalid item: {item}\")\n"
   ]
  },
  {
   "cell_type": "code",
   "execution_count": 2,
   "id": "2fd04861",
   "metadata": {},
   "outputs": [],
   "source": [
    "## Explanation :----\n",
    "\n",
    "# The loop attempts to convert each 'item' to an integer and multiplies it by 2.\n",
    "# If a 'ValueError' occurs (e.g., for a non-numeric value), it skips the item and prints a message."
   ]
  },
  {
   "cell_type": "markdown",
   "id": "b50387f4",
   "metadata": {},
   "source": [
    "##### Example 7: Flattening a List of Lists"
   ]
  },
  {
   "cell_type": "code",
   "execution_count": 19,
   "id": "2e38aae6",
   "metadata": {},
   "outputs": [
    {
     "name": "stdout",
     "output_type": "stream",
     "text": [
      "[1, 2, 3, 4, 5, 6, 7, 8, 9]\n"
     ]
    }
   ],
   "source": [
    "nested_list = [[1, 2, 3], [4, 5], [6, 7, 8, 9]]\n",
    "\n",
    "flattened_list = [item for sublist in nested_list for item in sublist]\n",
    "print(flattened_list)\n"
   ]
  },
  {
   "cell_type": "code",
   "execution_count": 3,
   "id": "7450103d",
   "metadata": {},
   "outputs": [],
   "source": [
    "## Explanation :----\n",
    "\n",
    "# The nested 'for' loops in a list comprehension iterate through each sublist and then each item in the sublist.\n",
    "# This creates a single, flat list."
   ]
  },
  {
   "cell_type": "markdown",
   "id": "4991a96f",
   "metadata": {},
   "source": [
    "##### Example 8: Looping With Conditional Filtering"
   ]
  },
  {
   "cell_type": "code",
   "execution_count": 20,
   "id": "2c4133e6",
   "metadata": {},
   "outputs": [
    {
     "name": "stdout",
     "output_type": "stream",
     "text": [
      "[0, 4, 16, 36, 64]\n"
     ]
    }
   ],
   "source": [
    "numbers = range(10)\n",
    "\n",
    "# Filtering even numbers and squaring them\n",
    "even_squares = [n**2 for n in numbers if n % 2 == 0]\n",
    "print(even_squares)\n"
   ]
  },
  {
   "cell_type": "code",
   "execution_count": null,
   "id": "880a5090",
   "metadata": {},
   "outputs": [],
   "source": [
    "## Explanation :----\n",
    "\n",
    "# A list comprehension includes a condition '(if n % 2 == 0)' to filter out odd numbers.\n",
    "# Only even numbers are squared and added to the list."
   ]
  },
  {
   "cell_type": "markdown",
   "id": "5a19a098",
   "metadata": {},
   "source": [
    "# 'while loop' Examples"
   ]
  },
  {
   "cell_type": "markdown",
   "id": "1ca54873",
   "metadata": {},
   "source": [
    "##### Example 1: Basic 'while' Loop"
   ]
  },
  {
   "cell_type": "code",
   "execution_count": 4,
   "id": "4ead7324",
   "metadata": {},
   "outputs": [
    {
     "name": "stdout",
     "output_type": "stream",
     "text": [
      "Count is 1\n",
      "Count is 2\n",
      "Count is 3\n",
      "Count is 4\n",
      "Count is 5\n"
     ]
    }
   ],
   "source": [
    "count = 1\n",
    "while count <= 5:\n",
    "    print(f\"Count is {count}\")\n",
    "    count += 1\n"
   ]
  },
  {
   "cell_type": "code",
   "execution_count": 5,
   "id": "7b8f05e9",
   "metadata": {},
   "outputs": [],
   "source": [
    "## Explanation :----\n",
    "\n",
    "# The loop runs as long as the condition 'count <= 5' is 'True.'\n",
    "# On each iteration, the value of 'count' is printed and incremented by 1.\n",
    "# Once 'count' exceeds 5, the condition becomes 'False,' and the loop stops."
   ]
  },
  {
   "cell_type": "markdown",
   "id": "51cc0c9d",
   "metadata": {},
   "source": [
    "Example 2: Infinite Loop (with Break)"
   ]
  },
  {
   "cell_type": "code",
   "execution_count": 1,
   "id": "69d6b048",
   "metadata": {},
   "outputs": [
    {
     "name": "stdout",
     "output_type": "stream",
     "text": [
      "Enter 'exit' to quit: exit\n",
      "Exiting the loop!\n"
     ]
    }
   ],
   "source": [
    "while True:\n",
    "    user_input = input(\"Enter 'exit' to quit: \")\n",
    "    if user_input.lower() == 'exit':\n",
    "        print(\"Exiting the loop!\")\n",
    "        break\n"
   ]
  },
  {
   "cell_type": "code",
   "execution_count": 1,
   "id": "c01a8f3f",
   "metadata": {},
   "outputs": [],
   "source": [
    "## Explanation :----\n",
    "\n",
    "# The 'while True' creates an infinite loop.\n",
    "# Inside the loop, it asks for user input.\n",
    "# If the input is \"exit\", the 'break' statement exits the loop."
   ]
  },
  {
   "cell_type": "markdown",
   "id": "82f86602",
   "metadata": {},
   "source": [
    "Example 3: 'while' Loop With a Countdown"
   ]
  },
  {
   "cell_type": "code",
   "execution_count": 3,
   "id": "d44c8ea6",
   "metadata": {},
   "outputs": [
    {
     "name": "stdout",
     "output_type": "stream",
     "text": [
      "Countdown: 10\n",
      "Countdown: 9\n",
      "Countdown: 8\n",
      "Countdown: 7\n",
      "Countdown: 6\n",
      "Countdown: 5\n",
      "Countdown: 4\n",
      "Countdown: 3\n",
      "Countdown: 2\n",
      "Countdown: 1\n",
      "Blast off!\n"
     ]
    }
   ],
   "source": [
    "countdown = 10\n",
    "while countdown > 0:\n",
    "    print(f\"Countdown: {countdown}\")\n",
    "    countdown -= 1\n",
    "print(\"Blast off!\")\n"
   ]
  },
  {
   "cell_type": "code",
   "execution_count": 2,
   "id": "74f06abd",
   "metadata": {},
   "outputs": [],
   "source": [
    "## Explanation :----\n",
    "\n",
    "# The loop runs while 'countdown' is greater than 0.\n",
    "# The value of 'countdown' decreases by 1 on each iteration.\n",
    "# When 'countdown' reaches 0, the loop ends, and \"Blast off!\" is printed."
   ]
  },
  {
   "cell_type": "markdown",
   "id": "ee65cc76",
   "metadata": {},
   "source": [
    "Example 4: Using 'continue' in a 'while' Loop"
   ]
  },
  {
   "cell_type": "code",
   "execution_count": 6,
   "id": "c3fcd807",
   "metadata": {},
   "outputs": [
    {
     "name": "stdout",
     "output_type": "stream",
     "text": [
      "1\n",
      "3\n",
      "5\n",
      "7\n",
      "9\n"
     ]
    }
   ],
   "source": [
    "number = 0\n",
    "while number < 10:\n",
    "    number += 1\n",
    "    if number % 2 == 0:\n",
    "        continue  # Skip the rest of the loop for even numbers\n",
    "    print(number)\n"
   ]
  },
  {
   "cell_type": "code",
   "execution_count": 3,
   "id": "e0fbc3bb",
   "metadata": {},
   "outputs": [],
   "source": [
    "## Explanation :----\n",
    "\n",
    "# The loop increments 'number' from 1 to 10.\n",
    "# If the number is even, the 'continue' statement skips the rest of the loop.\n",
    "# Only odd numbers are printed."
   ]
  },
  {
   "cell_type": "markdown",
   "id": "b2d31c46",
   "metadata": {},
   "source": [
    "Example 5: Validating User Input"
   ]
  },
  {
   "cell_type": "code",
   "execution_count": 1,
   "id": "6173cc25",
   "metadata": {},
   "outputs": [
    {
     "name": "stdout",
     "output_type": "stream",
     "text": [
      "Enter the correct password: 1234\n",
      "Access granted!\n"
     ]
    }
   ],
   "source": [
    "password = \"\"\n",
    "while password != \"1234\":\n",
    "    password = input(\"Enter the correct password: \")\n",
    "print(\"Access granted!\")\n"
   ]
  },
  {
   "cell_type": "code",
   "execution_count": 4,
   "id": "a86ec17b",
   "metadata": {},
   "outputs": [],
   "source": [
    "## Explanation :----\n",
    "\n",
    "# The loop keeps asking the user for input until they enter the correct password (\"1234\").\n",
    "# Once the condition (password != \"1234\") is 'False,' the loop exits, and \"Access granted!\" is printed.\n"
   ]
  },
  {
   "cell_type": "markdown",
   "id": "3a230e6a",
   "metadata": {},
   "source": [
    "Example 6: Nested while Loops"
   ]
  },
  {
   "cell_type": "code",
   "execution_count": 2,
   "id": "61b62e05",
   "metadata": {},
   "outputs": [
    {
     "name": "stdout",
     "output_type": "stream",
     "text": [
      "Outer: 1, Inner: 1\n",
      "Outer: 1, Inner: 2\n",
      "Outer: 1, Inner: 3\n",
      "Outer: 2, Inner: 1\n",
      "Outer: 2, Inner: 2\n",
      "Outer: 2, Inner: 3\n",
      "Outer: 3, Inner: 1\n",
      "Outer: 3, Inner: 2\n",
      "Outer: 3, Inner: 3\n"
     ]
    }
   ],
   "source": [
    "outer = 1\n",
    "while outer <= 3:\n",
    "    inner = 1\n",
    "    while inner <= 3:\n",
    "        print(f\"Outer: {outer}, Inner: {inner}\")\n",
    "        inner += 1\n",
    "    outer += 1\n"
   ]
  },
  {
   "cell_type": "code",
   "execution_count": 5,
   "id": "78f311ce",
   "metadata": {},
   "outputs": [],
   "source": [
    "## Explanation :----\n",
    "\n",
    "# The outer loop runs 3 times with 'outer' values 1, 2, and 3.\n",
    "# For each iteration of the outer loop, the 'inner' loop runs 3 times with inner values 1, 2, and 3.\n",
    "# This creates a nested structure of outputs."
   ]
  },
  {
   "cell_type": "markdown",
   "id": "66efb54e",
   "metadata": {},
   "source": [
    "Example 7: Summing Numbers"
   ]
  },
  {
   "cell_type": "code",
   "execution_count": 3,
   "id": "3970f2e1",
   "metadata": {},
   "outputs": [
    {
     "name": "stdout",
     "output_type": "stream",
     "text": [
      "The total sum is 15\n"
     ]
    }
   ],
   "source": [
    "total = 0\n",
    "current = 1\n",
    "while current <= 5:\n",
    "    total += current\n",
    "    current += 1\n",
    "print(f\"The total sum is {total}\")\n"
   ]
  },
  {
   "cell_type": "code",
   "execution_count": 6,
   "id": "e99fbf46",
   "metadata": {},
   "outputs": [],
   "source": [
    "## Explanation :----\n",
    "\n",
    "# The loop adds the numbers from 1 to 5 to the variable 'total.'\n",
    "# Once 'current' exceeds 5, the loop ends, and the total is printed."
   ]
  },
  {
   "cell_type": "markdown",
   "id": "5dde2498",
   "metadata": {},
   "source": [
    "Example 8: 'while' With a List"
   ]
  },
  {
   "cell_type": "code",
   "execution_count": 4,
   "id": "488a2ecb",
   "metadata": {},
   "outputs": [
    {
     "name": "stdout",
     "output_type": "stream",
     "text": [
      "Processing task1\n",
      "Processing task2\n",
      "Processing task3\n"
     ]
    }
   ],
   "source": [
    "tasks = [\"task1\", \"task2\", \"task3\"]\n",
    "while tasks:\n",
    "    current_task = tasks.pop(0)\n",
    "    print(f\"Processing {current_task}\")\n"
   ]
  },
  {
   "cell_type": "code",
   "execution_count": 7,
   "id": "47a82255",
   "metadata": {},
   "outputs": [],
   "source": [
    "## Explanation :----\n",
    "\n",
    "# The loop continues as long as the 'tasks' list is not empty.\n",
    "# The '.pop(0)' method removes and retrieves the first item in the list.\n",
    "# Each task is processed until the list becomes empty."
   ]
  },
  {
   "cell_type": "markdown",
   "id": "0d97fbc1",
   "metadata": {},
   "source": [
    "Example 9: Factorial Calculation"
   ]
  },
  {
   "cell_type": "code",
   "execution_count": 7,
   "id": "71a2f919",
   "metadata": {},
   "outputs": [
    {
     "name": "stdout",
     "output_type": "stream",
     "text": [
      "Factorial: 120\n"
     ]
    }
   ],
   "source": [
    "number = 5\n",
    "factorial = 1\n",
    "while number > 0:\n",
    "    factorial *= number\n",
    "    number -= 1\n",
    "print(f\"Factorial: {factorial}\")\n"
   ]
  },
  {
   "cell_type": "code",
   "execution_count": 8,
   "id": "43e646ea",
   "metadata": {},
   "outputs": [],
   "source": [
    "## Explanation :----\n",
    "\n",
    "# The loop calculates the factorial of '5' (5! = 5 × 4 × 3 × 2 × 1).\n",
    "# The 'factorial' variable accumulates the product.\n",
    "# When 'number' reaches 0, the loop ends, and the result is printed."
   ]
  },
  {
   "cell_type": "markdown",
   "id": "7e4d5c70",
   "metadata": {},
   "source": [
    "Example 10: Guessing Game"
   ]
  },
  {
   "cell_type": "code",
   "execution_count": 9,
   "id": "e88e084e",
   "metadata": {},
   "outputs": [
    {
     "name": "stdout",
     "output_type": "stream",
     "text": [
      "Guess a number between 1 and 10: 5\n",
      "Correct!\n"
     ]
    }
   ],
   "source": [
    "import random\n",
    "\n",
    "target = random.randint(1, 10)\n",
    "guess = None\n",
    "\n",
    "while guess != target:\n",
    "    guess = int(input(\"Guess a number between 1 and 10: \"))\n",
    "    if guess < target:\n",
    "        print(\"Too low!\")\n",
    "    elif guess > target:\n",
    "        print(\"Too high!\")\n",
    "    else:\n",
    "        print(\"Correct!\")\n"
   ]
  },
  {
   "cell_type": "code",
   "execution_count": 9,
   "id": "95effe16",
   "metadata": {},
   "outputs": [],
   "source": [
    "## Explanation :----\n",
    "\n",
    "# A random number between 1 and 10 is generated as the target.\n",
    "# The user guesses the number until they match the target.\n",
    "# Hints (\"Too low!\" or \"Too high!\") guide the user during the guessing process."
   ]
  },
  {
   "cell_type": "code",
   "execution_count": null,
   "id": "f12ef6f4",
   "metadata": {},
   "outputs": [],
   "source": []
  }
 ],
 "metadata": {
  "kernelspec": {
   "display_name": "Python 3 (ipykernel)",
   "language": "python",
   "name": "python3"
  },
  "language_info": {
   "codemirror_mode": {
    "name": "ipython",
    "version": 3
   },
   "file_extension": ".py",
   "mimetype": "text/x-python",
   "name": "python",
   "nbconvert_exporter": "python",
   "pygments_lexer": "ipython3",
   "version": "3.9.7"
  }
 },
 "nbformat": 4,
 "nbformat_minor": 5
}
