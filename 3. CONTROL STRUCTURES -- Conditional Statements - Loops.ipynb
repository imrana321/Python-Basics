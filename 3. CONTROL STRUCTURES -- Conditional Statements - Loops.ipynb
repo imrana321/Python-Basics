{
 "cells": [
  {
   "cell_type": "markdown",
   "id": "48b8e698",
   "metadata": {},
   "source": [
    "# CONDITIONAL & LOOPS"
   ]
  },
  {
   "cell_type": "markdown",
   "id": "5dd0ca48",
   "metadata": {},
   "source": [
    "## >>>> CONDITIONALS <<<<"
   ]
  },
  {
   "cell_type": "markdown",
   "id": "03eacc1a",
   "metadata": {},
   "source": [
    "Assign a variable, use '='  \n",
    "\n",
    "For comparison, us '==' | To check they are equal or not | Result is a 'Boolean'\n",
    "\n",
    "We also can use '>' :: i = 6 > 5 :: True"
   ]
  },
  {
   "cell_type": "code",
   "execution_count": 1,
   "id": "23efd6db",
   "metadata": {},
   "outputs": [],
   "source": [
    "# Example \n",
    "   # '>=' :: i=5 >= 5 :: True OR i=2 >= 5 :: Fales # At least one condition should be satisfied.\n",
    "\n",
    "   # '!=' Not equal \n",
    "                    \n",
    "   # ==, !=, >, <, >=, <="
   ]
  },
  {
   "cell_type": "code",
   "execution_count": 2,
   "id": "f78214de",
   "metadata": {},
   "outputs": [
    {
     "data": {
      "text/plain": [
       "False"
      ]
     },
     "execution_count": 2,
     "metadata": {},
     "output_type": "execute_result"
    }
   ],
   "source": [
    "a=5\n",
    "\n",
    "a==6"
   ]
  },
  {
   "cell_type": "code",
   "execution_count": 3,
   "id": "3a54c0eb",
   "metadata": {},
   "outputs": [
    {
     "data": {
      "text/plain": [
       "True"
      ]
     },
     "execution_count": 3,
     "metadata": {},
     "output_type": "execute_result"
    }
   ],
   "source": [
    "i=6\n",
    "\n",
    "i>5"
   ]
  },
  {
   "cell_type": "code",
   "execution_count": 4,
   "id": "e9c1a257",
   "metadata": {},
   "outputs": [
    {
     "data": {
      "text/plain": [
       "True"
      ]
     },
     "execution_count": 4,
     "metadata": {},
     "output_type": "execute_result"
    }
   ],
   "source": [
    "i=2\n",
    "i != 6"
   ]
  },
  {
   "cell_type": "code",
   "execution_count": 5,
   "id": "71c8acb1",
   "metadata": {},
   "outputs": [
    {
     "data": {
      "text/plain": [
       "True"
      ]
     },
     "execution_count": 5,
     "metadata": {},
     "output_type": "execute_result"
    }
   ],
   "source": [
    "## Can be compared for 'strings' as well based on ASCII codes :: A=101, B=102\n",
    "\n",
    "\"ABCD\" != \"Python\""
   ]
  },
  {
   "cell_type": "code",
   "execution_count": 6,
   "id": "9290fbe2",
   "metadata": {},
   "outputs": [
    {
     "data": {
      "text/plain": [
       "False"
      ]
     },
     "execution_count": 6,
     "metadata": {},
     "output_type": "execute_result"
    }
   ],
   "source": [
    "\"BA\" == \"AB\""
   ]
  },
  {
   "cell_type": "code",
   "execution_count": 7,
   "id": "39ae9727",
   "metadata": {},
   "outputs": [
    {
     "data": {
      "text/plain": [
       "True"
      ]
     },
     "execution_count": 7,
     "metadata": {},
     "output_type": "execute_result"
    }
   ],
   "source": [
    "\"BA\" > \"AB\""
   ]
  },
  {
   "cell_type": "code",
   "execution_count": 8,
   "id": "e8ffa77a",
   "metadata": {},
   "outputs": [
    {
     "data": {
      "text/plain": [
       "False"
      ]
     },
     "execution_count": 8,
     "metadata": {},
     "output_type": "execute_result"
    }
   ],
   "source": [
    "\"BA\" < \"AB\""
   ]
  },
  {
   "cell_type": "markdown",
   "id": "fda15f97",
   "metadata": {},
   "source": [
    "#### BRANCHING | 'if' Statement"
   ]
  },
  {
   "cell_type": "code",
   "execution_count": 9,
   "id": "e64dd866",
   "metadata": {},
   "outputs": [
    {
     "name": "stdout",
     "output_type": "stream",
     "text": [
      "You can enter.\n",
      "Move on\n"
     ]
    }
   ],
   "source": [
    "## 'if' Condition\n",
    "\n",
    "age = 37\n",
    "\n",
    "if age < 38:\n",
    "    print(\"You can enter.\")\n",
    "    \n",
    "print(\"Move on\")"
   ]
  },
  {
   "cell_type": "code",
   "execution_count": 10,
   "id": "32ca5d1c",
   "metadata": {},
   "outputs": [
    {
     "name": "stdout",
     "output_type": "stream",
     "text": [
      "Move on\n"
     ]
    }
   ],
   "source": [
    " # It will print anyway because it is out of the condition, not intended.\n",
    "    \n",
    "    \n",
    "age = 37\n",
    "\n",
    "if age > 38:\n",
    "    print(\"You can enter.\")\n",
    "    \n",
    "print(\"Move on\") "
   ]
  },
  {
   "cell_type": "markdown",
   "id": "47bef609",
   "metadata": {},
   "source": [
    "#### BRANCHING | 'else' Statement"
   ]
  },
  {
   "cell_type": "code",
   "execution_count": 12,
   "id": "f5377754",
   "metadata": {},
   "outputs": [
    {
     "name": "stdout",
     "output_type": "stream",
     "text": [
      "You can enter\n",
      "Move on\n"
     ]
    }
   ],
   "source": [
    "age = 19\n",
    "\n",
    "if age>18:\n",
    "    print (\"You can enter\")\n",
    "    \n",
    "else:\n",
    "    print (\"Go to the park\")\n",
    "    \n",
    "print (\"Move on\")"
   ]
  },
  {
   "cell_type": "code",
   "execution_count": 13,
   "id": "57e2cf2a",
   "metadata": {},
   "outputs": [
    {
     "name": "stdout",
     "output_type": "stream",
     "text": [
      "Go to the park\n",
      "Move on\n"
     ]
    }
   ],
   "source": [
    "age = 15\n",
    "\n",
    "if age>18:\n",
    "    print (\"You can enter\")\n",
    "    \n",
    "else:\n",
    "    print (\"Go to the park\")\n",
    "    \n",
    "print (\"Move on\")"
   ]
  },
  {
   "cell_type": "markdown",
   "id": "f722a978",
   "metadata": {},
   "source": [
    "#### BRANCHING | 'elif' Statement"
   ]
  },
  {
   "cell_type": "code",
   "execution_count": 14,
   "id": "6a70063f",
   "metadata": {},
   "outputs": [
    {
     "name": "stdout",
     "output_type": "stream",
     "text": [
      "Go to the park.\n",
      "Move on..\n"
     ]
    }
   ],
   "source": [
    "age = 18\n",
    "\n",
    "if age>18:\n",
    "    print (\"You can enter.\")\n",
    "\n",
    "elif age==18:\n",
    "    print(\"Go to the park.\")\n",
    "    \n",
    "else:\n",
    "    print (\"Go somewhere else.\")\n",
    "    \n",
    "print (\"Move on..\")"
   ]
  },
  {
   "cell_type": "markdown",
   "id": "4f227806",
   "metadata": {},
   "source": [
    "### Logical Operators"
   ]
  },
  {
   "cell_type": "code",
   "execution_count": 15,
   "id": "b00b6123",
   "metadata": {},
   "outputs": [
    {
     "name": "stdout",
     "output_type": "stream",
     "text": [
      "The album was between 1980 and 1990.\n"
     ]
    }
   ],
   "source": [
    "album_year = 1980\n",
    "\n",
    "if(album_year > 1979) and (album_year < 1990):\n",
    "    print(\"The album was between 1980 and 1990.\")"
   ]
  },
  {
   "cell_type": "code",
   "execution_count": 16,
   "id": "f0c0cc5d",
   "metadata": {},
   "outputs": [
    {
     "name": "stdout",
     "output_type": "stream",
     "text": [
      "The album was made in 1980's.\n"
     ]
    }
   ],
   "source": [
    "album_year = 1989\n",
    "\n",
    "if(album_year < 1980) or (album_year < 1989):\n",
    "    print(\"The album was not made in 1980's\")\n",
    "    \n",
    "else:\n",
    "    print(\"The album was made in 1980's.\")"
   ]
  },
  {
   "cell_type": "code",
   "execution_count": 17,
   "id": "11947722",
   "metadata": {},
   "outputs": [
    {
     "name": "stdout",
     "output_type": "stream",
     "text": [
      "The album year not 1984.\n"
     ]
    }
   ],
   "source": [
    "album_year = 1983\n",
    "\n",
    "if(album_year != \"1984\"):\n",
    "    print(\"The album year not 1984.\")"
   ]
  },
  {
   "cell_type": "markdown",
   "id": "c0f58bc8",
   "metadata": {},
   "source": [
    "#### Nester 'if' Statement"
   ]
  },
  {
   "cell_type": "code",
   "execution_count": 18,
   "id": "963de7d0",
   "metadata": {},
   "outputs": [],
   "source": [
    "#### We can also use if statement inside of an if statement:\n",
    "##### The syntax of nested if statement is:\n",
    "\n",
    "## Outer if Statement:\n",
    "#   if condition:\n",
    "        # statement(s)\n",
    "    \n",
    "## inner if statement\n",
    "#    if condition2:\n",
    "        # Statements"
   ]
  },
  {
   "cell_type": "code",
   "execution_count": 22,
   "id": "5327faf5",
   "metadata": {},
   "outputs": [
    {
     "name": "stdout",
     "output_type": "stream",
     "text": [
      "The number is 10 or 0.\n"
     ]
    }
   ],
   "source": [
    "number = 100\n",
    "\n",
    "\n",
    "if (number>=0):        # Outer 'if statement' #\n",
    "    \n",
    "    \n",
    "    if(number==0):    #Inner 'if statement' #\n",
    "        print(\"The number is 0.\")\n",
    "        \n",
    "    \n",
    "    elif(number>0 and number<5):         # Inner 'elif' statement #\n",
    "        print(\"The number is in range of 1:4.\")\n",
    "        \n",
    "    elif(number==5 or number<10):\n",
    "        print(\"The number is in range of 5:9.\")\n",
    "        \n",
    "   \n",
    "    else:             # Inner 'else' statement #\n",
    "        print(\"The number is 10 or 0.\")\n",
    "\n",
    "\n",
    "else:           # Outer 'else' statement #\n",
    "    print(\"The number is negative.\")"
   ]
  },
  {
   "cell_type": "code",
   "execution_count": 23,
   "id": "3d80f4fd",
   "metadata": {},
   "outputs": [
    {
     "name": "stdout",
     "output_type": "stream",
     "text": [
      "The number is negative.\n"
     ]
    }
   ],
   "source": [
    "number = -100\n",
    "\n",
    "\n",
    "if (number>=0):\n",
    "    \n",
    "    if(number==0):\n",
    "        print(\"The number is 0.\")\n",
    "   \n",
    "    elif(number>0 and number<5):\n",
    "        print(\"The number is in range of 1:4.\")\n",
    "        \n",
    "    elif(number==5 or number<10):\n",
    "        print(\"The number is in range of 5:9.\")\n",
    "  \n",
    "    else:\n",
    "        print(\"The number is 10 or 0.\")\n",
    "\n",
    "\n",
    "else:\n",
    "    print(\"The number is negative.\")"
   ]
  },
  {
   "cell_type": "markdown",
   "id": "ba7f90e8",
   "metadata": {},
   "source": [
    "## >>>> LOOPS <<<<"
   ]
  },
  {
   "cell_type": "markdown",
   "id": "ddc3cfa8",
   "metadata": {},
   "source": [
    "There aIn Python, a loop is a control structure that repeats a block of code until a specific condition is met. There are two main types of loops: \"for\" and \"while\"."
   ]
  },
  {
   "cell_type": "code",
   "execution_count": 1,
   "id": "127e4bcc",
   "metadata": {},
   "outputs": [
    {
     "name": "stdout",
     "output_type": "stream",
     "text": [
      "0\n",
      "1\n",
      "2\n",
      "3\n",
      "4\n"
     ]
    }
   ],
   "source": [
    "# Example 'for' loop:\n",
    "# This loop iterates over a sequence of numbers (0 to 4) and prints each value.\n",
    "\n",
    "\n",
    "\n",
    "for i in range(5):\n",
    "    print(i)"
   ]
  },
  {
   "cell_type": "code",
   "execution_count": 2,
   "id": "4262a747",
   "metadata": {},
   "outputs": [
    {
     "name": "stdout",
     "output_type": "stream",
     "text": [
      "0\n",
      "1\n",
      "2\n",
      "3\n",
      "4\n"
     ]
    }
   ],
   "source": [
    "# Example 'while' loop:\n",
    "# This loop executes as long as the condition count < 5 is true, \n",
    "# printing the value of count each time and incrementing it by 1 until it reaches 5.\n",
    "\n",
    "\n",
    "count = 0\n",
    "while count < 5:\n",
    "    print(count)\n",
    "    count += 1"
   ]
  },
  {
   "cell_type": "markdown",
   "id": "841b563d",
   "metadata": {},
   "source": [
    "### Use of 'range' in Loops"
   ]
  },
  {
   "cell_type": "code",
   "execution_count": 3,
   "id": "995ce60c",
   "metadata": {},
   "outputs": [
    {
     "name": "stdout",
     "output_type": "stream",
     "text": [
      "range(0, 5)\n",
      "[0, 1, 2, 3, 4]\n"
     ]
    }
   ],
   "source": [
    "# Rage : An object as built-in python 3 immutable sequence type.\n",
    "\n",
    "# Shows the list of 'index' form (1-5):\n",
    "\n",
    "values = range(5)        ## 'range' is highly used in a 'loop'\n",
    "\n",
    "print(values)\n",
    "\n",
    "print(list(values))    ## from '0' to just before the one you included in the function!"
   ]
  },
  {
   "cell_type": "code",
   "execution_count": 4,
   "id": "63aba1b8",
   "metadata": {},
   "outputs": [
    {
     "name": "stdout",
     "output_type": "stream",
     "text": [
      "range(0, 5)\n",
      "[0, 1, 2, 3, 4]\n"
     ]
    }
   ],
   "source": [
    "values = range(5)\n",
    "\n",
    "print(values)\n",
    "\n",
    "print(list(values))"
   ]
  },
  {
   "cell_type": "code",
   "execution_count": 5,
   "id": "ccd685dc",
   "metadata": {},
   "outputs": [
    {
     "name": "stdout",
     "output_type": "stream",
     "text": [
      "range(6, 20)\n",
      "[6, 7, 8, 9, 10, 11, 12, 13, 14, 15, 16, 17, 18, 19]\n"
     ]
    }
   ],
   "source": [
    "## 'stop' argument by 'range'\n",
    "    # range(start, stop, step)\n",
    "    \n",
    " \n",
    "\n",
    "x = range(6, 20)\n",
    "\n",
    "print(x)\n",
    "\n",
    "print(list(x))"
   ]
  },
  {
   "cell_type": "code",
   "execution_count": 6,
   "id": "641d0e28",
   "metadata": {},
   "outputs": [
    {
     "name": "stdout",
     "output_type": "stream",
     "text": [
      "range(6, 20, 2)\n",
      "[6, 8, 10, 12, 14, 16, 18]\n"
     ]
    }
   ],
   "source": [
    "x = range(6, 20, 2)\n",
    "\n",
    "print(x)\n",
    "\n",
    "print(list(x))"
   ]
  },
  {
   "cell_type": "code",
   "execution_count": 7,
   "id": "5b2e1a3b",
   "metadata": {},
   "outputs": [
    {
     "name": "stdout",
     "output_type": "stream",
     "text": [
      "[-100, -99, -98, -97, -96, -95, -94, -93, -92, -91, -90, -89, -88, -87, -86, -85, -84, -83, -82, -81, -80, -79, -78, -77, -76, -75, -74, -73, -72, -71, -70, -69, -68, -67, -66, -65, -64, -63, -62, -61, -60, -59, -58, -57, -56, -55, -54, -53, -52, -51, -50, -49, -48, -47, -46, -45, -44, -43, -42, -41, -40, -39, -38, -37, -36, -35, -34, -33, -32, -31, -30, -29, -28, -27, -26, -25, -24, -23, -22, -21]\n"
     ]
    }
   ],
   "source": [
    "# Negative values can also be use:\n",
    "\n",
    "var = range (-100, -20)\n",
    "\n",
    "print(list(var))"
   ]
  },
  {
   "cell_type": "code",
   "execution_count": 8,
   "id": "952423ca",
   "metadata": {},
   "outputs": [
    {
     "name": "stdout",
     "output_type": "stream",
     "text": [
      "[-100, -94, -88, -82, -76, -70, -64, -58, -52, -46, -40, -34, -28, -22]\n"
     ]
    }
   ],
   "source": [
    "var = range (-100, -20, 6)\n",
    "\n",
    "print(list(var))"
   ]
  },
  {
   "cell_type": "code",
   "execution_count": 9,
   "id": "04e3f53e",
   "metadata": {},
   "outputs": [
    {
     "name": "stdout",
     "output_type": "stream",
     "text": [
      "[10, 8, 6, 4, 2, 0]\n"
     ]
    }
   ],
   "source": [
    "# Decrementing values can also be obatined from the range function\n",
    "\n",
    "var2 = range (10, -2, -2)     #Decresing Order#\n",
    "\n",
    "print(list(var2))        "
   ]
  },
  {
   "cell_type": "markdown",
   "id": "bf04cd1f",
   "metadata": {},
   "source": [
    "### 'for' Loop"
   ]
  },
  {
   "cell_type": "code",
   "execution_count": 10,
   "id": "3d3c7c8c",
   "metadata": {},
   "outputs": [
    {
     "name": "stdout",
     "output_type": "stream",
     "text": [
      "1982\n",
      "1980\n",
      "1973\n"
     ]
    }
   ],
   "source": [
    "# In python, we can directly access the element in the list --\n",
    "\n",
    "dates = [1982, 1980, 1973]\n",
    "\n",
    "for year in dates:\n",
    "    print(year)"
   ]
  },
  {
   "cell_type": "code",
   "execution_count": 13,
   "id": "3320166f",
   "metadata": {},
   "outputs": [
    {
     "name": "stdout",
     "output_type": "stream",
     "text": [
      "1982\n",
      "1980\n",
      "1973\n"
     ]
    }
   ],
   "source": [
    "# OR\n",
    "\n",
    "dates = [1982, 1980, 1973]\n",
    "\n",
    "print(dates[0])\n",
    "print(dates[1])\n",
    "print(dates[2])"
   ]
  },
  {
   "cell_type": "code",
   "execution_count": 14,
   "id": "2f551ac4",
   "metadata": {},
   "outputs": [
    {
     "name": "stdout",
     "output_type": "stream",
     "text": [
      "[0, 1, 2, 3]\n"
     ]
    }
   ],
   "source": [
    "## 'range()'\n",
    "\n",
    "values = range(4)\n",
    "print(list(values))"
   ]
  },
  {
   "cell_type": "code",
   "execution_count": 15,
   "id": "ed528f47",
   "metadata": {},
   "outputs": [
    {
     "name": "stdout",
     "output_type": "stream",
     "text": [
      "0\n",
      "1\n",
      "2\n",
      "3\n"
     ]
    }
   ],
   "source": [
    "values = range(4)\n",
    "\n",
    "for i in values:\n",
    "    print(i)"
   ]
  },
  {
   "cell_type": "code",
   "execution_count": 18,
   "id": "373c8475",
   "metadata": {},
   "outputs": [
    {
     "name": "stdout",
     "output_type": "stream",
     "text": [
      "1987\n",
      "1999\n",
      "1993\n"
     ]
    }
   ],
   "source": [
    "dates = [1987, 1999, 1993]\n",
    "N = len(dates)\n",
    "\n",
    "for i in range(N):\n",
    "    print(dates [i])"
   ]
  },
  {
   "cell_type": "code",
   "execution_count": 33,
   "id": "7c300b22",
   "metadata": {
    "scrolled": true
   },
   "outputs": [
    {
     "name": "stdout",
     "output_type": "stream",
     "text": [
      "0\n",
      "1\n",
      "2\n"
     ]
    }
   ],
   "source": [
    "# 'range()' function\n",
    "\n",
    "for x in range(3):\n",
    "    print(x)"
   ]
  },
  {
   "cell_type": "code",
   "execution_count": 34,
   "id": "318c2e01",
   "metadata": {},
   "outputs": [
    {
     "name": "stdout",
     "output_type": "stream",
     "text": [
      "1\n",
      "4\n",
      "7\n"
     ]
    }
   ],
   "source": [
    "for n in range(1,10,3):\n",
    "    print(n)"
   ]
  },
  {
   "cell_type": "code",
   "execution_count": 19,
   "id": "e326b59e",
   "metadata": {},
   "outputs": [
    {
     "name": "stdout",
     "output_type": "stream",
     "text": [
      "red\n",
      "yellow\n",
      "Green\n",
      "purple\n",
      "blue\n",
      "\n",
      "Befor Square 0 is red\n",
      "After Square 0 is Color\n",
      "\n",
      "Befor Square 1 is yellow\n",
      "After Square 1 is Color\n",
      "\n",
      "Befor Square 2 is Green\n",
      "After Square 2 is Color\n",
      "\n",
      "Befor Square 3 is purple\n",
      "After Square 3 is Color\n",
      "\n",
      "Befor Square 4 is blue\n",
      "After Square 4 is Color\n",
      "\n",
      "['Color', 'Color', 'Color', 'Color', 'Color']\n"
     ]
    }
   ],
   "source": [
    "## use loop to change elements:\n",
    "\n",
    "\n",
    "square = [\"red\", \"yellow\", \"Green\", \"purple\", \"blue\"]\n",
    "\n",
    "for i in square:\n",
    "    print(i)\n",
    "print(\"\")\n",
    "    \n",
    "for i in range(0,5):\n",
    "    print(\"Befor Square\", i, \"is\", square[i])\n",
    "    \n",
    "    square[i] = \"Color\"\n",
    "    print(\"After Square\", i, \"is\", square[i])\n",
    "    print(\"\")\n",
    "    \n",
    "print(square)"
   ]
  },
  {
   "cell_type": "code",
   "execution_count": 20,
   "id": "4e707ffe",
   "metadata": {},
   "outputs": [
    {
     "name": "stdout",
     "output_type": "stream",
     "text": [
      "0\n",
      "1\n",
      "2\n",
      "No Items\n"
     ]
    }
   ],
   "source": [
    "digits = [0,1,2]\n",
    "\n",
    "for numbers in (digits):         \n",
    "    print(numbers)\n",
    "else:\n",
    "    print(\"No Items\")      #It is outside loop#"
   ]
  },
  {
   "cell_type": "code",
   "execution_count": 21,
   "id": "00ee6c9f",
   "metadata": {},
   "outputs": [
    {
     "name": "stdout",
     "output_type": "stream",
     "text": [
      "0\n",
      "No Items\n",
      "1\n",
      "No Items\n",
      "2\n",
      "No Items\n"
     ]
    }
   ],
   "source": [
    "digits = [0,1,2]\n",
    "\n",
    "for numbers in (digits):         \n",
    "    print(numbers)\n",
    "    print(\"No Items\")      #It is in the Loop#"
   ]
  },
  {
   "cell_type": "markdown",
   "id": "3ba1c4f3",
   "metadata": {},
   "source": [
    "#### 'for' LOOP | enumerate ():"
   ]
  },
  {
   "cell_type": "code",
   "execution_count": 22,
   "id": "f26b9259",
   "metadata": {},
   "outputs": [
    {
     "name": "stdout",
     "output_type": "stream",
     "text": [
      "0 red\n",
      "1 yellow\n",
      "2 Green\n",
      "3 purple\n",
      "4 blue\n"
     ]
    }
   ],
   "source": [
    "# We can access the index and the elements of a list as follows:\n",
    "\n",
    "\n",
    "\n",
    "\n",
    "squares = [\"red\", \"yellow\", \"Green\", \"purple\", \"blue\"]\n",
    "\n",
    "for i, square in enumerate(squares):    #'enumerate' -- gives index and elements #\n",
    "    \n",
    "    print(i, square)"
   ]
  },
  {
   "cell_type": "code",
   "execution_count": 23,
   "id": "3324e539",
   "metadata": {},
   "outputs": [
    {
     "name": "stdout",
     "output_type": "stream",
     "text": [
      "(0, 0) [0, 1, 2]\n",
      "(1, 1) [0, 1, 2]\n",
      "(2, 2) [0, 1, 2]\n"
     ]
    }
   ],
   "source": [
    "digits = [0,1,2]\n",
    "\n",
    "for j in enumerate(digits):         \n",
    "    \n",
    "    print(j, digits)      #MINE#"
   ]
  },
  {
   "cell_type": "code",
   "execution_count": 24,
   "id": "499c2ed5",
   "metadata": {},
   "outputs": [
    {
     "name": "stdout",
     "output_type": "stream",
     "text": [
      "(0, 4) [4, 9, 5]\n",
      "(1, 9) [4, 9, 5]\n",
      "(2, 5) [4, 9, 5]\n"
     ]
    }
   ],
   "source": [
    "digits = [4,9,5]\n",
    "\n",
    "for j in enumerate(digits):         \n",
    "    \n",
    "    print(j, digits)      #MINE#"
   ]
  },
  {
   "cell_type": "code",
   "execution_count": 25,
   "id": "5e98dfa4",
   "metadata": {},
   "outputs": [
    {
     "name": "stdout",
     "output_type": "stream",
     "text": [
      "(0, 4)\n",
      "(1, 9)\n",
      "(2, 5)\n"
     ]
    }
   ],
   "source": [
    "digits = [4,9,5]\n",
    "\n",
    "for j in enumerate(digits):         \n",
    "    \n",
    "    print(j)      #MINE#"
   ]
  },
  {
   "cell_type": "code",
   "execution_count": 26,
   "id": "4ca6feb6",
   "metadata": {},
   "outputs": [
    {
     "name": "stdout",
     "output_type": "stream",
     "text": [
      "[(0, 'python'), (1, 'Java'), (2, 'Linux')]\n"
     ]
    }
   ],
   "source": [
    "## It adds a counter to an interable and returns it.\n",
    "\n",
    "language = [\"python\", \"Java\", \"Linux\"]\n",
    "\n",
    "enumerate_prime = enumerate(language)\n",
    "\n",
    "\n",
    "\n",
    "\n",
    "\n",
    "# convert enumerate object to list\n",
    "\n",
    "print(list(enumerate_prime))"
   ]
  },
  {
   "cell_type": "code",
   "execution_count": 18,
   "id": "ca3b6bcd",
   "metadata": {},
   "outputs": [
    {
     "name": "stdout",
     "output_type": "stream",
     "text": [
      "Bread\n",
      "Milk\n",
      "Butter\n"
     ]
    }
   ],
   "source": [
    "# 'for loop' over an enumerate object:\n",
    "\n",
    "grocery = [\"Bread\", \"Milk\", \"Butter\"]\n",
    "\n",
    "for item in grocery:\n",
    "    \n",
    "    print(item)"
   ]
  },
  {
   "cell_type": "code",
   "execution_count": 28,
   "id": "ab648ad7",
   "metadata": {},
   "outputs": [
    {
     "name": "stdout",
     "output_type": "stream",
     "text": [
      "0 Bread\n",
      "1 Milk\n",
      "2 Butter\n"
     ]
    }
   ],
   "source": [
    "for count, item in enumerate(grocery):\n",
    "    \n",
    "    print(count,item)   # Both will be counted as seperated"
   ]
  },
  {
   "cell_type": "markdown",
   "id": "4549a0b6",
   "metadata": {},
   "source": [
    "#### 'for' LOOP | To iterate over a 'list'"
   ]
  },
  {
   "cell_type": "code",
   "execution_count": 30,
   "id": "f8058ee8",
   "metadata": {},
   "outputs": [
    {
     "name": "stdout",
     "output_type": "stream",
     "text": [
      "apple\n",
      "banana\n",
      "car\n",
      "dolphin\n"
     ]
    }
   ],
   "source": [
    "words = [\"apple\", \"banana\", \"car\", \"dolphin\"]\n",
    "\n",
    "for word in words:\n",
    "    print(word)"
   ]
  },
  {
   "cell_type": "markdown",
   "id": "053de545",
   "metadata": {},
   "source": [
    "#### 'for' LOOP | To itterate over a 'tuple'"
   ]
  },
  {
   "cell_type": "code",
   "execution_count": 31,
   "id": "67ec21f5",
   "metadata": {},
   "outputs": [
    {
     "name": "stdout",
     "output_type": "stream",
     "text": [
      "The sum of the numbers is 10\n"
     ]
    }
   ],
   "source": [
    "nums = (1,2,3,4)\n",
    "\n",
    "sum_num = 0\n",
    "\n",
    "for num in nums:\n",
    "    sum_num = sum_num + num\n",
    "# sum_num = 0 + 1 = 1\n",
    "# sum_num = 1 + 2 = 3\n",
    "# sum_num = 3 + 3 = 6\n",
    "# sum_num = 6 + 4 = 10\n",
    "print(f\"The sum of the numbers is {sum_num}\")"
   ]
  },
  {
   "cell_type": "markdown",
   "id": "950b3683",
   "metadata": {},
   "source": [
    "#### 'for' LOOP | To itterate over a 'String'"
   ]
  },
  {
   "cell_type": "code",
   "execution_count": 32,
   "id": "9246406b",
   "metadata": {},
   "outputs": [
    {
     "name": "stdout",
     "output_type": "stream",
     "text": [
      "a\n",
      "n\n",
      "a\n",
      "c\n",
      "o\n",
      "n\n",
      "d\n",
      "a\n"
     ]
    }
   ],
   "source": [
    "word = \"anaconda\"\n",
    "\n",
    "for letter in word:\n",
    "    print(letter)"
   ]
  },
  {
   "cell_type": "markdown",
   "id": "08427abe",
   "metadata": {},
   "source": [
    "#### 'for' LOOP | Nesting"
   ]
  },
  {
   "cell_type": "code",
   "execution_count": 1,
   "id": "5b58a4bc",
   "metadata": {},
   "outputs": [
    {
     "name": "stdout",
     "output_type": "stream",
     "text": [
      "red apple\n",
      "red banana\n",
      "red Cherry\n",
      "big apple\n",
      "big banana\n",
      "big Cherry\n",
      "tasty apple\n",
      "tasty banana\n",
      "tasty Cherry\n"
     ]
    }
   ],
   "source": [
    "adjective = [\"red\", \"big\", \"tasty\"]\n",
    "fruits = [\"apple\", \"banana\", \"Cherry\"]\n",
    "\n",
    "for x in adjective:\n",
    "    for y in fruits: \n",
    "        print(x,y)"
   ]
  },
  {
   "cell_type": "code",
   "execution_count": 2,
   "id": "b9813111",
   "metadata": {},
   "outputs": [
    {
     "name": "stdout",
     "output_type": "stream",
     "text": [
      "The following lines will print each letter ofapple\n",
      "a\n",
      "p\n",
      "p\n",
      "l\n",
      "e\n",
      "\n",
      "The following lines will print each letter ofbanana\n",
      "b\n",
      "a\n",
      "n\n",
      "a\n",
      "n\n",
      "a\n",
      "\n",
      "The following lines will print each letter ofcar\n",
      "c\n",
      "a\n",
      "r\n",
      "\n",
      "The following lines will print each letter ofdolphin\n",
      "d\n",
      "o\n",
      "l\n",
      "p\n",
      "h\n",
      "i\n",
      "n\n",
      "\n"
     ]
    }
   ],
   "source": [
    "words = [\"apple\", \"banana\", \"car\", \"dolphin\"]\n",
    "\n",
    "for word in words:\n",
    "    print(\"The following lines will print each letter of\" + word)\n",
    "    for letter in word:\n",
    "        print(letter)\n",
    "    print(\"\")"
   ]
  },
  {
   "cell_type": "code",
   "execution_count": 3,
   "id": "cce2bdaf",
   "metadata": {},
   "outputs": [
    {
     "name": "stdout",
     "output_type": "stream",
     "text": [
      "The following lines will print each letter ofapple\n",
      "apple\n",
      "banana\n",
      "car\n",
      "dolphin\n",
      "\n",
      "The following lines will print each letter ofbanana\n",
      "apple\n",
      "banana\n",
      "car\n",
      "dolphin\n",
      "\n",
      "The following lines will print each letter ofcar\n",
      "apple\n",
      "banana\n",
      "car\n",
      "dolphin\n",
      "\n",
      "The following lines will print each letter ofdolphin\n",
      "apple\n",
      "banana\n",
      "car\n",
      "dolphin\n",
      "\n"
     ]
    }
   ],
   "source": [
    "words = [\"apple\", \"banana\", \"car\", \"dolphin\"]\n",
    "\n",
    "for word in words:\n",
    "    print(\"The following lines will print each letter of\" +word)\n",
    "    for letter in words:\n",
    "        print(letter)\n",
    "    print(\"\")"
   ]
  },
  {
   "cell_type": "markdown",
   "id": "7680ee6e",
   "metadata": {},
   "source": [
    "#### 'for' LOOP | 'break' Statement"
   ]
  },
  {
   "cell_type": "code",
   "execution_count": 4,
   "id": "ca390129",
   "metadata": {},
   "outputs": [
    {
     "name": "stdout",
     "output_type": "stream",
     "text": [
      "apple\n",
      "mango\n"
     ]
    }
   ],
   "source": [
    "fruits = [\"apple\", \"mango\", \"banana\", \"cherry\"]\n",
    "\n",
    "for x in fruits:\n",
    "    if x==\"banana\":\n",
    "        break \n",
    "    print(x)"
   ]
  },
  {
   "cell_type": "code",
   "execution_count": 5,
   "id": "90c5826b",
   "metadata": {},
   "outputs": [
    {
     "name": "stdout",
     "output_type": "stream",
     "text": [
      "The list contains 2: True\n"
     ]
    }
   ],
   "source": [
    "nums = [1,2,3,4,5,6]\n",
    "\n",
    "n = 2\n",
    "found = False   #bool#\n",
    "\n",
    "for numbers in nums:\n",
    "    if n==numbers:\n",
    "        found=True\n",
    "        break\n",
    "print(f\"The list contains {n}: {found}\")"
   ]
  },
  {
   "cell_type": "markdown",
   "id": "82e9b508",
   "metadata": {},
   "source": [
    "#### 'for' LOOP | 'continue' Statement"
   ]
  },
  {
   "cell_type": "code",
   "execution_count": 6,
   "id": "e324c848",
   "metadata": {},
   "outputs": [
    {
     "name": "stdout",
     "output_type": "stream",
     "text": [
      "The sum of positive numbers is: 7\n"
     ]
    }
   ],
   "source": [
    "nums = [1,2,-3,4,-5]\n",
    "\n",
    "sum_positives = 0\n",
    "\n",
    "for num in nums:\n",
    "    if num<0:\n",
    "        continue\n",
    "    sum_positives += num    ##sum_positives = sum_positives + num##\n",
    "\n",
    "print(f\"The sum of positive numbers is: {sum_positives}\")"
   ]
  },
  {
   "cell_type": "markdown",
   "id": "6398060b",
   "metadata": {},
   "source": [
    "### 'for' Vs. 'while' loop"
   ]
  },
  {
   "cell_type": "code",
   "execution_count": 29,
   "id": "7cf1685f",
   "metadata": {},
   "outputs": [
    {
     "name": "stdout",
     "output_type": "stream",
     "text": [
      "1\n",
      "2\n",
      "3\n",
      "4\n",
      "5\n"
     ]
    }
   ],
   "source": [
    "# Know the number of Itterations :: for\n",
    "# Don't know the number of Itterations: while\n",
    "\n",
    "\n",
    "i = 1\n",
    "n = 5\n",
    "\n",
    "while i<=n:\n",
    "    print(i)\n",
    "    i = i+1         # while the condition is not applicable, while loop will stop only then. "
   ]
  },
  {
   "cell_type": "markdown",
   "id": "9292e817",
   "metadata": {},
   "source": [
    "#### 'while' LOOP | To itterate over a 'List'"
   ]
  },
  {
   "cell_type": "markdown",
   "id": "4979320b",
   "metadata": {},
   "source": [
    "It dosen't depend on 'elements or range' | It's itterations depend on the 'conditions'"
   ]
  },
  {
   "cell_type": "code",
   "execution_count": 7,
   "id": "64a39a5c",
   "metadata": {},
   "outputs": [
    {
     "name": "stdout",
     "output_type": "stream",
     "text": [
      "1\n",
      "2\n",
      "3\n",
      "4\n",
      "5\n"
     ]
    }
   ],
   "source": [
    "i=1\n",
    "n=5\n",
    "\n",
    "while i<=n:\n",
    "    print(i)\n",
    "    i = i+1"
   ]
  },
  {
   "cell_type": "code",
   "execution_count": 8,
   "id": "ab9ddf9f",
   "metadata": {},
   "outputs": [
    {
     "name": "stdout",
     "output_type": "stream",
     "text": [
      "1982\n",
      "1980\n",
      "1973\n",
      "It took 3 Repeatation to get out of loop.\n"
     ]
    }
   ],
   "source": [
    "dates = [1982,1980,1973,2000]\n",
    "\n",
    "i=0\n",
    "year=0\n",
    "\n",
    "while(year != 1973):\n",
    "    year=dates[i]\n",
    "    i=i+1\n",
    "    print(year)\n",
    "print(\"It took\", i, \"Repeatation to get out of loop.\")"
   ]
  },
  {
   "cell_type": "code",
   "execution_count": 9,
   "id": "f1b4b3b8",
   "metadata": {},
   "outputs": [
    {
     "name": "stdout",
     "output_type": "stream",
     "text": [
      "Enter a number: 5\n",
      "Enter a number: 6\n",
      "Enter a number: 0\n",
      "Total =  11\n"
     ]
    }
   ],
   "source": [
    "## Input some numbers:\n",
    "\n",
    "total = 0\n",
    "\n",
    "number = int(input(\"Enter a number: \"))\n",
    "\n",
    "while number != 0:\n",
    "    total += number    #total = total+number#\n",
    "    number = int(input(\"Enter a number: \"))   #Take an input again#\n",
    "print(\"Total = \", total)"
   ]
  },
  {
   "cell_type": "markdown",
   "id": "ef06fcaf",
   "metadata": {},
   "source": [
    "#### 'while' LOOP | Ifinite Loop"
   ]
  },
  {
   "cell_type": "code",
   "execution_count": 11,
   "id": "4f1f1a67",
   "metadata": {},
   "outputs": [],
   "source": [
    "# [Never run it] Screen gets hanged!!\n",
    "\n",
    "#   age = 32\n",
    "#   while age>18:\n",
    "#     print(\"you can vote\")"
   ]
  },
  {
   "cell_type": "code",
   "execution_count": 12,
   "id": "a2bdb0ce",
   "metadata": {},
   "outputs": [
    {
     "name": "stdout",
     "output_type": "stream",
     "text": [
      "Inside loop\n",
      "Inside loop\n",
      "Inside loop\n",
      "Inside else\n"
     ]
    }
   ],
   "source": [
    "counter = 0\n",
    "\n",
    "while counter <3:\n",
    "    print(\"Inside loop\")\n",
    "    counter = counter + 1\n",
    "else:\n",
    "    print(\"Inside else\")"
   ]
  },
  {
   "cell_type": "code",
   "execution_count": 13,
   "id": "48369690",
   "metadata": {},
   "outputs": [
    {
     "name": "stdout",
     "output_type": "stream",
     "text": [
      "Inside loop\n",
      "Inside else\n"
     ]
    }
   ],
   "source": [
    "counter = 2\n",
    "\n",
    "while counter <3:\n",
    "    if counter == 1:\n",
    "        break\n",
    "    print (\"Inside loop\")\n",
    "    counter = counter + 1\n",
    "else:\n",
    "    print(\"Inside else\")"
   ]
  },
  {
   "cell_type": "code",
   "execution_count": 14,
   "id": "b7be6b96",
   "metadata": {},
   "outputs": [
    {
     "name": "stdout",
     "output_type": "stream",
     "text": [
      "1\n",
      "2\n",
      "3\n"
     ]
    }
   ],
   "source": [
    "i = 1\n",
    "\n",
    "while i<6:\n",
    "    print(i)\n",
    "    if i==3:\n",
    "        break\n",
    "    i += 1         #i=i+1#"
   ]
  },
  {
   "cell_type": "code",
   "execution_count": 15,
   "id": "08e55af5",
   "metadata": {},
   "outputs": [
    {
     "name": "stdout",
     "output_type": "stream",
     "text": [
      "1\n",
      "2\n",
      "3\n",
      "4\n",
      "5\n"
     ]
    }
   ],
   "source": [
    "i = 1\n",
    "\n",
    "while i<6:\n",
    "    print(i)\n",
    "    i += 1"
   ]
  },
  {
   "cell_type": "code",
   "execution_count": 16,
   "id": "ccec2596",
   "metadata": {},
   "outputs": [
    {
     "name": "stdout",
     "output_type": "stream",
     "text": [
      "1\n",
      "2\n",
      "3\n",
      "5\n",
      "6\n"
     ]
    }
   ],
   "source": [
    "i = 0\n",
    "\n",
    "while i<6:\n",
    "    i=i+1\n",
    "    if i==4:\n",
    "        continue\n",
    "    print(i)"
   ]
  },
  {
   "cell_type": "code",
   "execution_count": 17,
   "id": "ce6e00f0",
   "metadata": {},
   "outputs": [
    {
     "name": "stdout",
     "output_type": "stream",
     "text": [
      "1\n",
      "2\n",
      "3\n"
     ]
    }
   ],
   "source": [
    "i = 0\n",
    "while i<6:\n",
    "    i=i+1\n",
    "    if i==4:\n",
    "        break\n",
    "    print(i)"
   ]
  },
  {
   "cell_type": "code",
   "execution_count": null,
   "id": "c70fe3a2",
   "metadata": {},
   "outputs": [],
   "source": []
  }
 ],
 "metadata": {
  "kernelspec": {
   "display_name": "Python 3 (ipykernel)",
   "language": "python",
   "name": "python3"
  },
  "language_info": {
   "codemirror_mode": {
    "name": "ipython",
    "version": 3
   },
   "file_extension": ".py",
   "mimetype": "text/x-python",
   "name": "python",
   "nbconvert_exporter": "python",
   "pygments_lexer": "ipython3",
   "version": "3.9.7"
  }
 },
 "nbformat": 4,
 "nbformat_minor": 5
}
